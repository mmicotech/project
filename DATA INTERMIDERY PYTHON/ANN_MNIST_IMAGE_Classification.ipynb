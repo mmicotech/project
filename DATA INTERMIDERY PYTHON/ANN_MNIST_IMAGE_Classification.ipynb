{
 "cells": [
  {
   "cell_type": "code",
   "execution_count": 1,
   "id": "16c9c579",
   "metadata": {},
   "outputs": [
    {
     "name": "stdout",
     "output_type": "stream",
     "text": [
      "Requirement already satisfied: tensorflow in c:\\users\\preeti\\anaconda3\\envs\\deeplearning\\lib\\site-packages (2.11.0)\n",
      "Requirement already satisfied: tensorflow-intel==2.11.0 in c:\\users\\preeti\\anaconda3\\envs\\deeplearning\\lib\\site-packages (from tensorflow) (2.11.0)\n",
      "Requirement already satisfied: grpcio<2.0,>=1.24.3 in c:\\users\\preeti\\anaconda3\\envs\\deeplearning\\lib\\site-packages (from tensorflow-intel==2.11.0->tensorflow) (1.51.1)\n",
      "Requirement already satisfied: setuptools in c:\\users\\preeti\\anaconda3\\envs\\deeplearning\\lib\\site-packages (from tensorflow-intel==2.11.0->tensorflow) (65.6.3)\n",
      "Requirement already satisfied: astunparse>=1.6.0 in c:\\users\\preeti\\anaconda3\\envs\\deeplearning\\lib\\site-packages (from tensorflow-intel==2.11.0->tensorflow) (1.6.3)\n",
      "Requirement already satisfied: wrapt>=1.11.0 in c:\\users\\preeti\\anaconda3\\envs\\deeplearning\\lib\\site-packages (from tensorflow-intel==2.11.0->tensorflow) (1.14.1)\n",
      "Requirement already satisfied: keras<2.12,>=2.11.0 in c:\\users\\preeti\\anaconda3\\envs\\deeplearning\\lib\\site-packages (from tensorflow-intel==2.11.0->tensorflow) (2.11.0)\n",
      "Requirement already satisfied: h5py>=2.9.0 in c:\\users\\preeti\\anaconda3\\envs\\deeplearning\\lib\\site-packages (from tensorflow-intel==2.11.0->tensorflow) (3.8.0)\n",
      "Requirement already satisfied: six>=1.12.0 in c:\\users\\preeti\\anaconda3\\envs\\deeplearning\\lib\\site-packages (from tensorflow-intel==2.11.0->tensorflow) (1.16.0)\n",
      "Requirement already satisfied: absl-py>=1.0.0 in c:\\users\\preeti\\anaconda3\\envs\\deeplearning\\lib\\site-packages (from tensorflow-intel==2.11.0->tensorflow) (1.4.0)\n",
      "Requirement already satisfied: flatbuffers>=2.0 in c:\\users\\preeti\\anaconda3\\envs\\deeplearning\\lib\\site-packages (from tensorflow-intel==2.11.0->tensorflow) (23.1.21)\n",
      "Requirement already satisfied: tensorflow-estimator<2.12,>=2.11.0 in c:\\users\\preeti\\anaconda3\\envs\\deeplearning\\lib\\site-packages (from tensorflow-intel==2.11.0->tensorflow) (2.11.0)\n",
      "Requirement already satisfied: typing-extensions>=3.6.6 in c:\\users\\preeti\\anaconda3\\envs\\deeplearning\\lib\\site-packages (from tensorflow-intel==2.11.0->tensorflow) (4.4.0)\n",
      "Requirement already satisfied: numpy>=1.20 in c:\\users\\preeti\\anaconda3\\envs\\deeplearning\\lib\\site-packages (from tensorflow-intel==2.11.0->tensorflow) (1.25.2)\n",
      "Requirement already satisfied: tensorflow-io-gcs-filesystem>=0.23.1 in c:\\users\\preeti\\anaconda3\\envs\\deeplearning\\lib\\site-packages (from tensorflow-intel==2.11.0->tensorflow) (0.30.0)\n",
      "Requirement already satisfied: packaging in c:\\users\\preeti\\anaconda3\\envs\\deeplearning\\lib\\site-packages (from tensorflow-intel==2.11.0->tensorflow) (22.0)\n",
      "Requirement already satisfied: google-pasta>=0.1.1 in c:\\users\\preeti\\anaconda3\\envs\\deeplearning\\lib\\site-packages (from tensorflow-intel==2.11.0->tensorflow) (0.2.0)\n",
      "Requirement already satisfied: gast<=0.4.0,>=0.2.1 in c:\\users\\preeti\\anaconda3\\envs\\deeplearning\\lib\\site-packages (from tensorflow-intel==2.11.0->tensorflow) (0.4.0)\n",
      "Requirement already satisfied: tensorboard<2.12,>=2.11 in c:\\users\\preeti\\anaconda3\\envs\\deeplearning\\lib\\site-packages (from tensorflow-intel==2.11.0->tensorflow) (2.11.2)\n",
      "Requirement already satisfied: opt-einsum>=2.3.2 in c:\\users\\preeti\\anaconda3\\envs\\deeplearning\\lib\\site-packages (from tensorflow-intel==2.11.0->tensorflow) (3.3.0)\n",
      "Requirement already satisfied: protobuf<3.20,>=3.9.2 in c:\\users\\preeti\\anaconda3\\envs\\deeplearning\\lib\\site-packages (from tensorflow-intel==2.11.0->tensorflow) (3.19.6)\n",
      "Requirement already satisfied: libclang>=13.0.0 in c:\\users\\preeti\\anaconda3\\envs\\deeplearning\\lib\\site-packages (from tensorflow-intel==2.11.0->tensorflow) (15.0.6.1)\n",
      "Requirement already satisfied: termcolor>=1.1.0 in c:\\users\\preeti\\anaconda3\\envs\\deeplearning\\lib\\site-packages (from tensorflow-intel==2.11.0->tensorflow) (2.2.0)\n",
      "Requirement already satisfied: wheel<1.0,>=0.23.0 in c:\\users\\preeti\\anaconda3\\envs\\deeplearning\\lib\\site-packages (from astunparse>=1.6.0->tensorflow-intel==2.11.0->tensorflow) (0.37.1)\n",
      "Requirement already satisfied: google-auth<3,>=1.6.3 in c:\\users\\preeti\\anaconda3\\envs\\deeplearning\\lib\\site-packages (from tensorboard<2.12,>=2.11->tensorflow-intel==2.11.0->tensorflow) (2.16.0)\n",
      "Requirement already satisfied: requests<3,>=2.21.0 in c:\\users\\preeti\\anaconda3\\envs\\deeplearning\\lib\\site-packages (from tensorboard<2.12,>=2.11->tensorflow-intel==2.11.0->tensorflow) (2.28.2)\n",
      "Requirement already satisfied: tensorboard-data-server<0.7.0,>=0.6.0 in c:\\users\\preeti\\anaconda3\\envs\\deeplearning\\lib\\site-packages (from tensorboard<2.12,>=2.11->tensorflow-intel==2.11.0->tensorflow) (0.6.1)\n",
      "Requirement already satisfied: markdown>=2.6.8 in c:\\users\\preeti\\anaconda3\\envs\\deeplearning\\lib\\site-packages (from tensorboard<2.12,>=2.11->tensorflow-intel==2.11.0->tensorflow) (3.4.1)\n",
      "Requirement already satisfied: werkzeug>=1.0.1 in c:\\users\\preeti\\anaconda3\\envs\\deeplearning\\lib\\site-packages (from tensorboard<2.12,>=2.11->tensorflow-intel==2.11.0->tensorflow) (2.2.2)\n",
      "Requirement already satisfied: google-auth-oauthlib<0.5,>=0.4.1 in c:\\users\\preeti\\anaconda3\\envs\\deeplearning\\lib\\site-packages (from tensorboard<2.12,>=2.11->tensorflow-intel==2.11.0->tensorflow) (0.4.6)\n",
      "Requirement already satisfied: tensorboard-plugin-wit>=1.6.0 in c:\\users\\preeti\\anaconda3\\envs\\deeplearning\\lib\\site-packages (from tensorboard<2.12,>=2.11->tensorflow-intel==2.11.0->tensorflow) (1.8.1)\n",
      "Requirement already satisfied: pyasn1-modules>=0.2.1 in c:\\users\\preeti\\anaconda3\\envs\\deeplearning\\lib\\site-packages (from google-auth<3,>=1.6.3->tensorboard<2.12,>=2.11->tensorflow-intel==2.11.0->tensorflow) (0.2.8)\n",
      "Requirement already satisfied: rsa<5,>=3.1.4 in c:\\users\\preeti\\anaconda3\\envs\\deeplearning\\lib\\site-packages (from google-auth<3,>=1.6.3->tensorboard<2.12,>=2.11->tensorflow-intel==2.11.0->tensorflow) (4.9)\n",
      "Requirement already satisfied: cachetools<6.0,>=2.0.0 in c:\\users\\preeti\\anaconda3\\envs\\deeplearning\\lib\\site-packages (from google-auth<3,>=1.6.3->tensorboard<2.12,>=2.11->tensorflow-intel==2.11.0->tensorflow) (5.3.0)\n",
      "Requirement already satisfied: requests-oauthlib>=0.7.0 in c:\\users\\preeti\\anaconda3\\envs\\deeplearning\\lib\\site-packages (from google-auth-oauthlib<0.5,>=0.4.1->tensorboard<2.12,>=2.11->tensorflow-intel==2.11.0->tensorflow) (1.3.1)\n",
      "Requirement already satisfied: importlib-metadata>=4.4 in c:\\users\\preeti\\anaconda3\\envs\\deeplearning\\lib\\site-packages (from markdown>=2.6.8->tensorboard<2.12,>=2.11->tensorflow-intel==2.11.0->tensorflow) (6.0.0)\n",
      "Requirement already satisfied: idna<4,>=2.5 in c:\\users\\preeti\\anaconda3\\envs\\deeplearning\\lib\\site-packages (from requests<3,>=2.21.0->tensorboard<2.12,>=2.11->tensorflow-intel==2.11.0->tensorflow) (3.4)\n",
      "Requirement already satisfied: charset-normalizer<4,>=2 in c:\\users\\preeti\\anaconda3\\envs\\deeplearning\\lib\\site-packages (from requests<3,>=2.21.0->tensorboard<2.12,>=2.11->tensorflow-intel==2.11.0->tensorflow) (3.0.1)\n",
      "Requirement already satisfied: urllib3<1.27,>=1.21.1 in c:\\users\\preeti\\anaconda3\\envs\\deeplearning\\lib\\site-packages (from requests<3,>=2.21.0->tensorboard<2.12,>=2.11->tensorflow-intel==2.11.0->tensorflow) (1.26.14)\n",
      "Requirement already satisfied: certifi>=2017.4.17 in c:\\users\\preeti\\anaconda3\\envs\\deeplearning\\lib\\site-packages (from requests<3,>=2.21.0->tensorboard<2.12,>=2.11->tensorflow-intel==2.11.0->tensorflow) (2022.12.7)\n",
      "Requirement already satisfied: MarkupSafe>=2.1.1 in c:\\users\\preeti\\anaconda3\\envs\\deeplearning\\lib\\site-packages (from werkzeug>=1.0.1->tensorboard<2.12,>=2.11->tensorflow-intel==2.11.0->tensorflow) (2.1.1)\n",
      "Requirement already satisfied: zipp>=0.5 in c:\\users\\preeti\\anaconda3\\envs\\deeplearning\\lib\\site-packages (from importlib-metadata>=4.4->markdown>=2.6.8->tensorboard<2.12,>=2.11->tensorflow-intel==2.11.0->tensorflow) (3.12.0)\n",
      "Requirement already satisfied: pyasn1<0.5.0,>=0.4.6 in c:\\users\\preeti\\anaconda3\\envs\\deeplearning\\lib\\site-packages (from pyasn1-modules>=0.2.1->google-auth<3,>=1.6.3->tensorboard<2.12,>=2.11->tensorflow-intel==2.11.0->tensorflow) (0.4.8)\n",
      "Requirement already satisfied: oauthlib>=3.0.0 in c:\\users\\preeti\\anaconda3\\envs\\deeplearning\\lib\\site-packages (from requests-oauthlib>=0.7.0->google-auth-oauthlib<0.5,>=0.4.1->tensorboard<2.12,>=2.11->tensorflow-intel==2.11.0->tensorflow) (3.2.2)\n"
     ]
    },
    {
     "name": "stderr",
     "output_type": "stream",
     "text": [
      "WARNING: Ignoring invalid distribution -rotobuf (c:\\users\\preeti\\anaconda3\\envs\\deeplearning\\lib\\site-packages)\n",
      "WARNING: Ignoring invalid distribution -rotobuf (c:\\users\\preeti\\anaconda3\\envs\\deeplearning\\lib\\site-packages)\n",
      "WARNING: Ignoring invalid distribution -rotobuf (c:\\users\\preeti\\anaconda3\\envs\\deeplearning\\lib\\site-packages)\n",
      "WARNING: Ignoring invalid distribution -rotobuf (c:\\users\\preeti\\anaconda3\\envs\\deeplearning\\lib\\site-packages)\n",
      "WARNING: Ignoring invalid distribution -rotobuf (c:\\users\\preeti\\anaconda3\\envs\\deeplearning\\lib\\site-packages)\n",
      "WARNING: Ignoring invalid distribution -rotobuf (c:\\users\\preeti\\anaconda3\\envs\\deeplearning\\lib\\site-packages)\n"
     ]
    }
   ],
   "source": [
    "# install tensorflow\n",
    "!pip install tensorflow"
   ]
  },
  {
   "cell_type": "code",
   "execution_count": 2,
   "id": "8e7552a2",
   "metadata": {},
   "outputs": [
    {
     "name": "stdout",
     "output_type": "stream",
     "text": [
      "Requirement already satisfied: keras in c:\\users\\preeti\\anaconda3\\envs\\deeplearning\\lib\\site-packages (2.11.0)\n"
     ]
    },
    {
     "name": "stderr",
     "output_type": "stream",
     "text": [
      "WARNING: Ignoring invalid distribution -rotobuf (c:\\users\\preeti\\anaconda3\\envs\\deeplearning\\lib\\site-packages)\n",
      "WARNING: Ignoring invalid distribution -rotobuf (c:\\users\\preeti\\anaconda3\\envs\\deeplearning\\lib\\site-packages)\n",
      "WARNING: Ignoring invalid distribution -rotobuf (c:\\users\\preeti\\anaconda3\\envs\\deeplearning\\lib\\site-packages)\n",
      "WARNING: Ignoring invalid distribution -rotobuf (c:\\users\\preeti\\anaconda3\\envs\\deeplearning\\lib\\site-packages)\n",
      "WARNING: Ignoring invalid distribution -rotobuf (c:\\users\\preeti\\anaconda3\\envs\\deeplearning\\lib\\site-packages)\n",
      "WARNING: Ignoring invalid distribution -rotobuf (c:\\users\\preeti\\anaconda3\\envs\\deeplearning\\lib\\site-packages)\n"
     ]
    }
   ],
   "source": [
    "# install keras\n",
    "!pip install keras"
   ]
  },
  {
   "cell_type": "code",
   "execution_count": 3,
   "id": "27dd187d",
   "metadata": {},
   "outputs": [],
   "source": [
    "# import required libraries\n",
    "import tensorflow as tf\n",
    "from tensorflow import keras\n",
    "from keras.models import Sequential\n",
    "from keras.layers import Dense,Flatten\n",
    "import numpy as np\n",
    "import pandas as pd\n",
    "import matplotlib.pyplot as plt"
   ]
  },
  {
   "cell_type": "code",
   "execution_count": 4,
   "id": "1cf37858",
   "metadata": {},
   "outputs": [],
   "source": [
    "#load MNIST dataset\n",
    "(X_train,y_train),(X_test,y_test)=keras.datasets.mnist.load_data()"
   ]
  },
  {
   "cell_type": "code",
   "execution_count": 5,
   "id": "9910198b",
   "metadata": {},
   "outputs": [
    {
     "data": {
      "text/plain": [
       "60000"
      ]
     },
     "execution_count": 5,
     "metadata": {},
     "output_type": "execute_result"
    }
   ],
   "source": [
    "# Number of training samples\n",
    "len(X_train)"
   ]
  },
  {
   "cell_type": "code",
   "execution_count": 6,
   "id": "86cab13c",
   "metadata": {},
   "outputs": [
    {
     "data": {
      "text/plain": [
       "10000"
      ]
     },
     "execution_count": 6,
     "metadata": {},
     "output_type": "execute_result"
    }
   ],
   "source": [
    "# Number of testing samples\n",
    "len(X_test)"
   ]
  },
  {
   "cell_type": "code",
   "execution_count": 7,
   "id": "2bb33213",
   "metadata": {},
   "outputs": [
    {
     "data": {
      "text/plain": [
       "numpy.ndarray"
      ]
     },
     "execution_count": 7,
     "metadata": {},
     "output_type": "execute_result"
    }
   ],
   "source": [
    "# datatype\n",
    "type(X_train)"
   ]
  },
  {
   "cell_type": "code",
   "execution_count": 8,
   "id": "fda2fc7a",
   "metadata": {},
   "outputs": [
    {
     "data": {
      "text/plain": [
       "array([[  0,   0,   0,   0,   0,   0,   0,   0,   0,   0,   0,   0,   0,\n",
       "          0,   0,   0,   0,   0,   0,   0,   0,   0,   0,   0,   0,   0,\n",
       "          0,   0],\n",
       "       [  0,   0,   0,   0,   0,   0,   0,   0,   0,   0,   0,   0,   0,\n",
       "          0,   0,   0,   0,   0,   0,   0,   0,   0,   0,   0,   0,   0,\n",
       "          0,   0],\n",
       "       [  0,   0,   0,   0,   0,   0,   0,   0,   0,   0,   0,   0,   0,\n",
       "          0,   0,   0,   0,   0,   0,   0,   0,   0,   0,   0,   0,   0,\n",
       "          0,   0],\n",
       "       [  0,   0,   0,   0,   0,   0,   0,   0,   0,   0,   0,   0,   0,\n",
       "          0,   0,   0,   0,   0,   0,   0,   0,   0,   0,   0,   0,   0,\n",
       "          0,   0],\n",
       "       [  0,   0,   0,   0,   0,   0,   0,   0,   0,   0,   0,   0,   0,\n",
       "          0,   0,   0,   0,   0,   0,   0,   0,   0,   0,   0,   0,   0,\n",
       "          0,   0],\n",
       "       [  0,   0,   0,   0,   0,   0,   0,   0,   0,   0,   0,   0,   3,\n",
       "         18,  18,  18, 126, 136, 175,  26, 166, 255, 247, 127,   0,   0,\n",
       "          0,   0],\n",
       "       [  0,   0,   0,   0,   0,   0,   0,   0,  30,  36,  94, 154, 170,\n",
       "        253, 253, 253, 253, 253, 225, 172, 253, 242, 195,  64,   0,   0,\n",
       "          0,   0],\n",
       "       [  0,   0,   0,   0,   0,   0,   0,  49, 238, 253, 253, 253, 253,\n",
       "        253, 253, 253, 253, 251,  93,  82,  82,  56,  39,   0,   0,   0,\n",
       "          0,   0],\n",
       "       [  0,   0,   0,   0,   0,   0,   0,  18, 219, 253, 253, 253, 253,\n",
       "        253, 198, 182, 247, 241,   0,   0,   0,   0,   0,   0,   0,   0,\n",
       "          0,   0],\n",
       "       [  0,   0,   0,   0,   0,   0,   0,   0,  80, 156, 107, 253, 253,\n",
       "        205,  11,   0,  43, 154,   0,   0,   0,   0,   0,   0,   0,   0,\n",
       "          0,   0],\n",
       "       [  0,   0,   0,   0,   0,   0,   0,   0,   0,  14,   1, 154, 253,\n",
       "         90,   0,   0,   0,   0,   0,   0,   0,   0,   0,   0,   0,   0,\n",
       "          0,   0],\n",
       "       [  0,   0,   0,   0,   0,   0,   0,   0,   0,   0,   0, 139, 253,\n",
       "        190,   2,   0,   0,   0,   0,   0,   0,   0,   0,   0,   0,   0,\n",
       "          0,   0],\n",
       "       [  0,   0,   0,   0,   0,   0,   0,   0,   0,   0,   0,  11, 190,\n",
       "        253,  70,   0,   0,   0,   0,   0,   0,   0,   0,   0,   0,   0,\n",
       "          0,   0],\n",
       "       [  0,   0,   0,   0,   0,   0,   0,   0,   0,   0,   0,   0,  35,\n",
       "        241, 225, 160, 108,   1,   0,   0,   0,   0,   0,   0,   0,   0,\n",
       "          0,   0],\n",
       "       [  0,   0,   0,   0,   0,   0,   0,   0,   0,   0,   0,   0,   0,\n",
       "         81, 240, 253, 253, 119,  25,   0,   0,   0,   0,   0,   0,   0,\n",
       "          0,   0],\n",
       "       [  0,   0,   0,   0,   0,   0,   0,   0,   0,   0,   0,   0,   0,\n",
       "          0,  45, 186, 253, 253, 150,  27,   0,   0,   0,   0,   0,   0,\n",
       "          0,   0],\n",
       "       [  0,   0,   0,   0,   0,   0,   0,   0,   0,   0,   0,   0,   0,\n",
       "          0,   0,  16,  93, 252, 253, 187,   0,   0,   0,   0,   0,   0,\n",
       "          0,   0],\n",
       "       [  0,   0,   0,   0,   0,   0,   0,   0,   0,   0,   0,   0,   0,\n",
       "          0,   0,   0,   0, 249, 253, 249,  64,   0,   0,   0,   0,   0,\n",
       "          0,   0],\n",
       "       [  0,   0,   0,   0,   0,   0,   0,   0,   0,   0,   0,   0,   0,\n",
       "          0,  46, 130, 183, 253, 253, 207,   2,   0,   0,   0,   0,   0,\n",
       "          0,   0],\n",
       "       [  0,   0,   0,   0,   0,   0,   0,   0,   0,   0,   0,   0,  39,\n",
       "        148, 229, 253, 253, 253, 250, 182,   0,   0,   0,   0,   0,   0,\n",
       "          0,   0],\n",
       "       [  0,   0,   0,   0,   0,   0,   0,   0,   0,   0,  24, 114, 221,\n",
       "        253, 253, 253, 253, 201,  78,   0,   0,   0,   0,   0,   0,   0,\n",
       "          0,   0],\n",
       "       [  0,   0,   0,   0,   0,   0,   0,   0,  23,  66, 213, 253, 253,\n",
       "        253, 253, 198,  81,   2,   0,   0,   0,   0,   0,   0,   0,   0,\n",
       "          0,   0],\n",
       "       [  0,   0,   0,   0,   0,   0,  18, 171, 219, 253, 253, 253, 253,\n",
       "        195,  80,   9,   0,   0,   0,   0,   0,   0,   0,   0,   0,   0,\n",
       "          0,   0],\n",
       "       [  0,   0,   0,   0,  55, 172, 226, 253, 253, 253, 253, 244, 133,\n",
       "         11,   0,   0,   0,   0,   0,   0,   0,   0,   0,   0,   0,   0,\n",
       "          0,   0],\n",
       "       [  0,   0,   0,   0, 136, 253, 253, 253, 212, 135, 132,  16,   0,\n",
       "          0,   0,   0,   0,   0,   0,   0,   0,   0,   0,   0,   0,   0,\n",
       "          0,   0],\n",
       "       [  0,   0,   0,   0,   0,   0,   0,   0,   0,   0,   0,   0,   0,\n",
       "          0,   0,   0,   0,   0,   0,   0,   0,   0,   0,   0,   0,   0,\n",
       "          0,   0],\n",
       "       [  0,   0,   0,   0,   0,   0,   0,   0,   0,   0,   0,   0,   0,\n",
       "          0,   0,   0,   0,   0,   0,   0,   0,   0,   0,   0,   0,   0,\n",
       "          0,   0],\n",
       "       [  0,   0,   0,   0,   0,   0,   0,   0,   0,   0,   0,   0,   0,\n",
       "          0,   0,   0,   0,   0,   0,   0,   0,   0,   0,   0,   0,   0,\n",
       "          0,   0]], dtype=uint8)"
      ]
     },
     "execution_count": 8,
     "metadata": {},
     "output_type": "execute_result"
    }
   ],
   "source": [
    "# Accessing individual samples\n",
    "X_train[0]"
   ]
  },
  {
   "cell_type": "code",
   "execution_count": 9,
   "id": "96c1179f",
   "metadata": {},
   "outputs": [
    {
     "data": {
      "text/plain": [
       "(60000, 28, 28)"
      ]
     },
     "execution_count": 9,
     "metadata": {},
     "output_type": "execute_result"
    }
   ],
   "source": [
    "# Shape of the training data\n",
    "X_train.shape"
   ]
  },
  {
   "cell_type": "code",
   "execution_count": 10,
   "id": "5e5e871e",
   "metadata": {},
   "outputs": [
    {
     "data": {
      "text/plain": [
       "(28, 28)"
      ]
     },
     "execution_count": 10,
     "metadata": {},
     "output_type": "execute_result"
    }
   ],
   "source": [
    "# shape of individual sample\n",
    "X_train[0].shape"
   ]
  },
  {
   "cell_type": "code",
   "execution_count": 11,
   "id": "1701bbb2",
   "metadata": {},
   "outputs": [
    {
     "data": {
      "text/plain": [
       "<matplotlib.image.AxesImage at 0x1e6c0aa4cd0>"
      ]
     },
     "execution_count": 11,
     "metadata": {},
     "output_type": "execute_result"
    },
    {
     "data": {
      "image/png": "[encoded data removed]",
      "text/plain": [
       "<Figure size 640x480 with 1 Axes>"
      ]
     },
     "metadata": {},
     "output_type": "display_data"
    }
   ],
   "source": [
    "# Show the gray scale image of handwritten digit\n",
    "plt.imshow(X_train[0], cmap='gray')"
   ]
  },
  {
   "cell_type": "code",
   "execution_count": 12,
   "id": "532215e7",
   "metadata": {},
   "outputs": [
    {
     "data": {
      "text/plain": [
       "5"
      ]
     },
     "execution_count": 12,
     "metadata": {},
     "output_type": "execute_result"
    }
   ],
   "source": [
    "# check the corresponding label\n",
    "y_train[0]"
   ]
  },
  {
   "cell_type": "code",
   "execution_count": 13,
   "id": "54447af9",
   "metadata": {},
   "outputs": [
    {
     "data": {
      "text/plain": [
       "(60000,)"
      ]
     },
     "execution_count": 13,
     "metadata": {},
     "output_type": "execute_result"
    }
   ],
   "source": [
    "# shape of training labels\n",
    "y_train.shape"
   ]
  },
  {
   "cell_type": "code",
   "execution_count": 14,
   "id": "78e5cfa3",
   "metadata": {},
   "outputs": [],
   "source": [
    "# Normalizing each pixel value in between 0 and 1\n",
    "X_train=X_train/255\n",
    "X_test=X_test/255"
   ]
  },
  {
   "cell_type": "code",
   "execution_count": 15,
   "id": "802209d0",
   "metadata": {},
   "outputs": [
    {
     "data": {
      "text/plain": [
       "array([[0.        , 0.        , 0.        , 0.        , 0.        ,\n",
       "        0.        , 0.        , 0.        , 0.        , 0.        ,\n",
       "        0.        , 0.        , 0.        , 0.        , 0.        ,\n",
       "        0.        , 0.        , 0.        , 0.        , 0.        ,\n",
       "        0.        , 0.        , 0.        , 0.        , 0.        ,\n",
       "        0.        , 0.        , 0.        ],\n",
       "       [0.        , 0.        , 0.        , 0.        , 0.        ,\n",
       "        0.        , 0.        , 0.        , 0.        , 0.        ,\n",
       "        0.        , 0.        , 0.        , 0.        , 0.        ,\n",
       "        0.        , 0.        , 0.        , 0.        , 0.        ,\n",
       "        0.        , 0.        , 0.        , 0.        , 0.        ,\n",
       "        0.        , 0.        , 0.        ],\n",
       "       [0.        , 0.        , 0.        , 0.        , 0.        ,\n",
       "        0.        , 0.        , 0.        , 0.        , 0.        ,\n",
       "        0.        , 0.        , 0.        , 0.        , 0.        ,\n",
       "        0.        , 0.        , 0.        , 0.        , 0.        ,\n",
       "        0.        , 0.        , 0.        , 0.        , 0.        ,\n",
       "        0.        , 0.        , 0.        ],\n",
       "       [0.        , 0.        , 0.        , 0.        , 0.        ,\n",
       "        0.        , 0.        , 0.        , 0.        , 0.        ,\n",
       "        0.        , 0.        , 0.        , 0.        , 0.        ,\n",
       "        0.        , 0.        , 0.        , 0.        , 0.        ,\n",
       "        0.        , 0.        , 0.        , 0.        , 0.        ,\n",
       "        0.        , 0.        , 0.        ],\n",
       "       [0.        , 0.        , 0.        , 0.        , 0.        ,\n",
       "        0.        , 0.        , 0.        , 0.        , 0.        ,\n",
       "        0.        , 0.        , 0.        , 0.        , 0.        ,\n",
       "        0.        , 0.        , 0.        , 0.        , 0.        ,\n",
       "        0.        , 0.        , 0.        , 0.        , 0.        ,\n",
       "        0.        , 0.        , 0.        ],\n",
       "       [0.        , 0.        , 0.        , 0.        , 0.        ,\n",
       "        0.        , 0.        , 0.        , 0.        , 0.        ,\n",
       "        0.        , 0.        , 0.01176471, 0.07058824, 0.07058824,\n",
       "        0.07058824, 0.49411765, 0.53333333, 0.68627451, 0.10196078,\n",
       "        0.65098039, 1.        , 0.96862745, 0.49803922, 0.        ,\n",
       "        0.        , 0.        , 0.        ],\n",
       "       [0.        , 0.        , 0.        , 0.        , 0.        ,\n",
       "        0.        , 0.        , 0.        , 0.11764706, 0.14117647,\n",
       "        0.36862745, 0.60392157, 0.66666667, 0.99215686, 0.99215686,\n",
       "        0.99215686, 0.99215686, 0.99215686, 0.88235294, 0.6745098 ,\n",
       "        0.99215686, 0.94901961, 0.76470588, 0.25098039, 0.        ,\n",
       "        0.        , 0.        , 0.        ],\n",
       "       [0.        , 0.        , 0.        , 0.        , 0.        ,\n",
       "        0.        , 0.        , 0.19215686, 0.93333333, 0.99215686,\n",
       "        0.99215686, 0.99215686, 0.99215686, 0.99215686, 0.99215686,\n",
       "        0.99215686, 0.99215686, 0.98431373, 0.36470588, 0.32156863,\n",
       "        0.32156863, 0.21960784, 0.15294118, 0.        , 0.        ,\n",
       "        0.        , 0.        , 0.        ],\n",
       "       [0.        , 0.        , 0.        , 0.        , 0.        ,\n",
       "        0.        , 0.        , 0.07058824, 0.85882353, 0.99215686,\n",
       "        0.99215686, 0.99215686, 0.99215686, 0.99215686, 0.77647059,\n",
       "        0.71372549, 0.96862745, 0.94509804, 0.        , 0.        ,\n",
       "        0.        , 0.        , 0.        , 0.        , 0.        ,\n",
       "        0.        , 0.        , 0.        ],\n",
       "       [0.        , 0.        , 0.        , 0.        , 0.        ,\n",
       "        0.        , 0.        , 0.        , 0.31372549, 0.61176471,\n",
       "        0.41960784, 0.99215686, 0.99215686, 0.80392157, 0.04313725,\n",
       "        0.        , 0.16862745, 0.60392157, 0.        , 0.        ,\n",
       "        0.        , 0.        , 0.        , 0.        , 0.        ,\n",
       "        0.        , 0.        , 0.        ],\n",
       "       [0.        , 0.        , 0.        , 0.        , 0.        ,\n",
       "        0.        , 0.        , 0.        , 0.        , 0.05490196,\n",
       "        0.00392157, 0.60392157, 0.99215686, 0.35294118, 0.        ,\n",
       "        0.        , 0.        , 0.        , 0.        , 0.        ,\n",
       "        0.        , 0.        , 0.        , 0.        , 0.        ,\n",
       "        0.        , 0.        , 0.        ],\n",
       "       [0.        , 0.        , 0.        , 0.        , 0.        ,\n",
       "        0.        , 0.        , 0.        , 0.        , 0.        ,\n",
       "        0.        , 0.54509804, 0.99215686, 0.74509804, 0.00784314,\n",
       "        0.        , 0.        , 0.        , 0.        , 0.        ,\n",
       "        0.        , 0.        , 0.        , 0.        , 0.        ,\n",
       "        0.        , 0.        , 0.        ],\n",
       "       [0.        , 0.        , 0.        , 0.        , 0.        ,\n",
       "        0.        , 0.        , 0.        , 0.        , 0.        ,\n",
       "        0.        , 0.04313725, 0.74509804, 0.99215686, 0.2745098 ,\n",
       "        0.        , 0.        , 0.        , 0.        , 0.        ,\n",
       "        0.        , 0.        , 0.        , 0.        , 0.        ,\n",
       "        0.        , 0.        , 0.        ],\n",
       "       [0.        , 0.        , 0.        , 0.        , 0.        ,\n",
       "        0.        , 0.        , 0.        , 0.        , 0.        ,\n",
       "        0.        , 0.        , 0.1372549 , 0.94509804, 0.88235294,\n",
       "        0.62745098, 0.42352941, 0.00392157, 0.        , 0.        ,\n",
       "        0.        , 0.        , 0.        , 0.        , 0.        ,\n",
       "        0.        , 0.        , 0.        ],\n",
       "       [0.        , 0.        , 0.        , 0.        , 0.        ,\n",
       "        0.        , 0.        , 0.        , 0.        , 0.        ,\n",
       "        0.        , 0.        , 0.        , 0.31764706, 0.94117647,\n",
       "        0.99215686, 0.99215686, 0.46666667, 0.09803922, 0.        ,\n",
       "        0.        , 0.        , 0.        , 0.        , 0.        ,\n",
       "        0.        , 0.        , 0.        ],\n",
       "       [0.        , 0.        , 0.        , 0.        , 0.        ,\n",
       "        0.        , 0.        , 0.        , 0.        , 0.        ,\n",
       "        0.        , 0.        , 0.        , 0.        , 0.17647059,\n",
       "        0.72941176, 0.99215686, 0.99215686, 0.58823529, 0.10588235,\n",
       "        0.        , 0.        , 0.        , 0.        , 0.        ,\n",
       "        0.        , 0.        , 0.        ],\n",
       "       [0.        , 0.        , 0.        , 0.        , 0.        ,\n",
       "        0.        , 0.        , 0.        , 0.        , 0.        ,\n",
       "        0.        , 0.        , 0.        , 0.        , 0.        ,\n",
       "        0.0627451 , 0.36470588, 0.98823529, 0.99215686, 0.73333333,\n",
       "        0.        , 0.        , 0.        , 0.        , 0.        ,\n",
       "        0.        , 0.        , 0.        ],\n",
       "       [0.        , 0.        , 0.        , 0.        , 0.        ,\n",
       "        0.        , 0.        , 0.        , 0.        , 0.        ,\n",
       "        0.        , 0.        , 0.        , 0.        , 0.        ,\n",
       "        0.        , 0.        , 0.97647059, 0.99215686, 0.97647059,\n",
       "        0.25098039, 0.        , 0.        , 0.        , 0.        ,\n",
       "        0.        , 0.        , 0.        ],\n",
       "       [0.        , 0.        , 0.        , 0.        , 0.        ,\n",
       "        0.        , 0.        , 0.        , 0.        , 0.        ,\n",
       "        0.        , 0.        , 0.        , 0.        , 0.18039216,\n",
       "        0.50980392, 0.71764706, 0.99215686, 0.99215686, 0.81176471,\n",
       "        0.00784314, 0.        , 0.        , 0.        , 0.        ,\n",
       "        0.        , 0.        , 0.        ],\n",
       "       [0.        , 0.        , 0.        , 0.        , 0.        ,\n",
       "        0.        , 0.        , 0.        , 0.        , 0.        ,\n",
       "        0.        , 0.        , 0.15294118, 0.58039216, 0.89803922,\n",
       "        0.99215686, 0.99215686, 0.99215686, 0.98039216, 0.71372549,\n",
       "        0.        , 0.        , 0.        , 0.        , 0.        ,\n",
       "        0.        , 0.        , 0.        ],\n",
       "       [0.        , 0.        , 0.        , 0.        , 0.        ,\n",
       "        0.        , 0.        , 0.        , 0.        , 0.        ,\n",
       "        0.09411765, 0.44705882, 0.86666667, 0.99215686, 0.99215686,\n",
       "        0.99215686, 0.99215686, 0.78823529, 0.30588235, 0.        ,\n",
       "        0.        , 0.        , 0.        , 0.        , 0.        ,\n",
       "        0.        , 0.        , 0.        ],\n",
       "       [0.        , 0.        , 0.        , 0.        , 0.        ,\n",
       "        0.        , 0.        , 0.        , 0.09019608, 0.25882353,\n",
       "        0.83529412, 0.99215686, 0.99215686, 0.99215686, 0.99215686,\n",
       "        0.77647059, 0.31764706, 0.00784314, 0.        , 0.        ,\n",
       "        0.        , 0.        , 0.        , 0.        , 0.        ,\n",
       "        0.        , 0.        , 0.        ],\n",
       "       [0.        , 0.        , 0.        , 0.        , 0.        ,\n",
       "        0.        , 0.07058824, 0.67058824, 0.85882353, 0.99215686,\n",
       "        0.99215686, 0.99215686, 0.99215686, 0.76470588, 0.31372549,\n",
       "        0.03529412, 0.        , 0.        , 0.        , 0.        ,\n",
       "        0.        , 0.        , 0.        , 0.        , 0.        ,\n",
       "        0.        , 0.        , 0.        ],\n",
       "       [0.        , 0.        , 0.        , 0.        , 0.21568627,\n",
       "        0.6745098 , 0.88627451, 0.99215686, 0.99215686, 0.99215686,\n",
       "        0.99215686, 0.95686275, 0.52156863, 0.04313725, 0.        ,\n",
       "        0.        , 0.        , 0.        , 0.        , 0.        ,\n",
       "        0.        , 0.        , 0.        , 0.        , 0.        ,\n",
       "        0.        , 0.        , 0.        ],\n",
       "       [0.        , 0.        , 0.        , 0.        , 0.53333333,\n",
       "        0.99215686, 0.99215686, 0.99215686, 0.83137255, 0.52941176,\n",
       "        0.51764706, 0.0627451 , 0.        , 0.        , 0.        ,\n",
       "        0.        , 0.        , 0.        , 0.        , 0.        ,\n",
       "        0.        , 0.        , 0.        , 0.        , 0.        ,\n",
       "        0.        , 0.        , 0.        ],\n",
       "       [0.        , 0.        , 0.        , 0.        , 0.        ,\n",
       "        0.        , 0.        , 0.        , 0.        , 0.        ,\n",
       "        0.        , 0.        , 0.        , 0.        , 0.        ,\n",
       "        0.        , 0.        , 0.        , 0.        , 0.        ,\n",
       "        0.        , 0.        , 0.        , 0.        , 0.        ,\n",
       "        0.        , 0.        , 0.        ],\n",
       "       [0.        , 0.        , 0.        , 0.        , 0.        ,\n",
       "        0.        , 0.        , 0.        , 0.        , 0.        ,\n",
       "        0.        , 0.        , 0.        , 0.        , 0.        ,\n",
       "        0.        , 0.        , 0.        , 0.        , 0.        ,\n",
       "        0.        , 0.        , 0.        , 0.        , 0.        ,\n",
       "        0.        , 0.        , 0.        ],\n",
       "       [0.        , 0.        , 0.        , 0.        , 0.        ,\n",
       "        0.        , 0.        , 0.        , 0.        , 0.        ,\n",
       "        0.        , 0.        , 0.        , 0.        , 0.        ,\n",
       "        0.        , 0.        , 0.        , 0.        , 0.        ,\n",
       "        0.        , 0.        , 0.        , 0.        , 0.        ,\n",
       "        0.        , 0.        , 0.        ]])"
      ]
     },
     "execution_count": 15,
     "metadata": {},
     "output_type": "execute_result"
    }
   ],
   "source": [
    "# Sample data post normalization\n",
    "X_train[0]"
   ]
  },
  {
   "cell_type": "code",
   "execution_count": 16,
   "id": "61184510",
   "metadata": {},
   "outputs": [
    {
     "name": "stdout",
     "output_type": "stream",
     "text": [
      "Model: \"sequential\"\n",
      "_________________________________________________________________\n",
      " Layer (type)                Output Shape              Param #   \n",
      "=================================================================\n",
      " flatten (Flatten)           (None, 784)               0         \n",
      "                                                                 \n",
      " dense (Dense)               (None, 150)               117750    \n",
      "                                                                 \n",
      " dense_1 (Dense)             (None, 100)               15100     \n",
      "                                                                 \n",
      " dense_2 (Dense)             (None, 10)                1010      \n",
      "                                                                 \n",
      "=================================================================\n",
      "Total params: 133,860\n",
      "Trainable params: 133,860\n",
      "Non-trainable params: 0\n",
      "_________________________________________________________________\n"
     ]
    }
   ],
   "source": [
    "# Building an ANN model\n",
    "model=Sequential()\n",
    "model.add(Flatten(input_shape=(28,28)))\n",
    "model.add(Dense(units=150,activation='relu'))\n",
    "\n",
    "model.add(Dense(units=100,activation='relu'))\n",
    "\n",
    "model.add(Dense(units=10,activation='softmax'))\n",
    "\n",
    "# summarizing the model\n",
    "model.summary()"
   ]
  },
  {
   "cell_type": "code",
   "execution_count": 17,
   "id": "a15d51f6",
   "metadata": {},
   "outputs": [],
   "source": [
    "# configuring the model\n",
    "model.compile(optimizer='SGD', loss='sparse_categorical_crossentropy', metrics=['accuracy'])"
   ]
  },
  {
   "cell_type": "code",
   "execution_count": 18,
   "id": "c57e2d44",
   "metadata": {
    "scrolled": false
   },
   "outputs": [
    {
     "name": "stdout",
     "output_type": "stream",
     "text": [
      "Epoch 1/10\n",
      "1500/1500 [==============================] - 3s 2ms/step - loss: 0.6756 - accuracy: 0.8214 - val_loss: 0.3303 - val_accuracy: 0.9086\n",
      "Epoch 2/10\n",
      "1500/1500 [==============================] - 3s 2ms/step - loss: 0.3171 - accuracy: 0.9087 - val_loss: 0.2737 - val_accuracy: 0.9223\n",
      "Epoch 3/10\n",
      "1500/1500 [==============================] - 3s 2ms/step - loss: 0.2663 - accuracy: 0.9237 - val_loss: 0.2444 - val_accuracy: 0.9322\n",
      "Epoch 4/10\n",
      "1500/1500 [==============================] - 3s 2ms/step - loss: 0.2317 - accuracy: 0.9336 - val_loss: 0.2127 - val_accuracy: 0.9405\n",
      "Epoch 5/10\n",
      "1500/1500 [==============================] - 3s 2ms/step - loss: 0.2053 - accuracy: 0.9405 - val_loss: 0.1994 - val_accuracy: 0.9434\n",
      "Epoch 6/10\n",
      "1500/1500 [==============================] - 4s 2ms/step - loss: 0.1839 - accuracy: 0.9461 - val_loss: 0.1756 - val_accuracy: 0.9513\n",
      "Epoch 7/10\n",
      "1500/1500 [==============================] - 3s 2ms/step - loss: 0.1663 - accuracy: 0.9519 - val_loss: 0.1633 - val_accuracy: 0.9548\n",
      "Epoch 8/10\n",
      "1500/1500 [==============================] - 3s 2ms/step - loss: 0.1516 - accuracy: 0.9557 - val_loss: 0.1553 - val_accuracy: 0.9553\n",
      "Epoch 9/10\n",
      "1500/1500 [==============================] - 3s 2ms/step - loss: 0.1386 - accuracy: 0.9609 - val_loss: 0.1482 - val_accuracy: 0.9563\n",
      "Epoch 10/10\n",
      "1500/1500 [==============================] - 3s 2ms/step - loss: 0.1279 - accuracy: 0.9624 - val_loss: 0.1418 - val_accuracy: 0.9586\n"
     ]
    },
    {
     "data": {
      "text/plain": [
       "<keras.callbacks.History at 0x1e6c03f2700>"
      ]
     },
     "execution_count": 18,
     "metadata": {},
     "output_type": "execute_result"
    }
   ],
   "source": [
    "# model training\n",
    "model.fit(X_train,y_train,epochs=10,validation_split=0.2,verbose=1)"
   ]
  },
  {
   "cell_type": "code",
   "execution_count": 19,
   "id": "da65dd1e",
   "metadata": {},
   "outputs": [
    {
     "data": {
      "text/html": [
       "<div>\n",
       "<style scoped>\n",
       "    .dataframe tbody tr th:only-of-type {\n",
       "        vertical-align: middle;\n",
       "    }\n",
       "\n",
       "    .dataframe tbody tr th {\n",
       "        vertical-align: top;\n",
       "    }\n",
       "\n",
       "    .dataframe thead th {\n",
       "        text-align: right;\n",
       "    }\n",
       "</style>\n",
       "<table border=\"1\" class=\"dataframe\">\n",
       "  <thead>\n",
       "    <tr style=\"text-align: right;\">\n",
       "      <th></th>\n",
       "      <th>loss</th>\n",
       "      <th>accuracy</th>\n",
       "      <th>val_loss</th>\n",
       "      <th>val_accuracy</th>\n",
       "    </tr>\n",
       "  </thead>\n",
       "  <tbody>\n",
       "    <tr>\n",
       "      <th>0</th>\n",
       "      <td>0.675630</td>\n",
       "      <td>0.821354</td>\n",
       "      <td>0.330344</td>\n",
       "      <td>0.908583</td>\n",
       "    </tr>\n",
       "    <tr>\n",
       "      <th>1</th>\n",
       "      <td>0.317081</td>\n",
       "      <td>0.908667</td>\n",
       "      <td>0.273707</td>\n",
       "      <td>0.922333</td>\n",
       "    </tr>\n",
       "    <tr>\n",
       "      <th>2</th>\n",
       "      <td>0.266331</td>\n",
       "      <td>0.923688</td>\n",
       "      <td>0.244429</td>\n",
       "      <td>0.932167</td>\n",
       "    </tr>\n",
       "    <tr>\n",
       "      <th>3</th>\n",
       "      <td>0.231654</td>\n",
       "      <td>0.933604</td>\n",
       "      <td>0.212670</td>\n",
       "      <td>0.940500</td>\n",
       "    </tr>\n",
       "    <tr>\n",
       "      <th>4</th>\n",
       "      <td>0.205287</td>\n",
       "      <td>0.940521</td>\n",
       "      <td>0.199400</td>\n",
       "      <td>0.943417</td>\n",
       "    </tr>\n",
       "    <tr>\n",
       "      <th>5</th>\n",
       "      <td>0.183898</td>\n",
       "      <td>0.946083</td>\n",
       "      <td>0.175599</td>\n",
       "      <td>0.951250</td>\n",
       "    </tr>\n",
       "    <tr>\n",
       "      <th>6</th>\n",
       "      <td>0.166259</td>\n",
       "      <td>0.951854</td>\n",
       "      <td>0.163262</td>\n",
       "      <td>0.954750</td>\n",
       "    </tr>\n",
       "    <tr>\n",
       "      <th>7</th>\n",
       "      <td>0.151583</td>\n",
       "      <td>0.955708</td>\n",
       "      <td>0.155288</td>\n",
       "      <td>0.955333</td>\n",
       "    </tr>\n",
       "    <tr>\n",
       "      <th>8</th>\n",
       "      <td>0.138552</td>\n",
       "      <td>0.960917</td>\n",
       "      <td>0.148151</td>\n",
       "      <td>0.956333</td>\n",
       "    </tr>\n",
       "    <tr>\n",
       "      <th>9</th>\n",
       "      <td>0.127885</td>\n",
       "      <td>0.962375</td>\n",
       "      <td>0.141752</td>\n",
       "      <td>0.958583</td>\n",
       "    </tr>\n",
       "  </tbody>\n",
       "</table>\n",
       "</div>"
      ],
      "text/plain": [
       "       loss  accuracy  val_loss  val_accuracy\n",
       "0  0.675630  0.821354  0.330344      0.908583\n",
       "1  0.317081  0.908667  0.273707      0.922333\n",
       "2  0.266331  0.923688  0.244429      0.932167\n",
       "3  0.231654  0.933604  0.212670      0.940500\n",
       "4  0.205287  0.940521  0.199400      0.943417\n",
       "5  0.183898  0.946083  0.175599      0.951250\n",
       "6  0.166259  0.951854  0.163262      0.954750\n",
       "7  0.151583  0.955708  0.155288      0.955333\n",
       "8  0.138552  0.960917  0.148151      0.956333\n",
       "9  0.127885  0.962375  0.141752      0.958583"
      ]
     },
     "execution_count": 19,
     "metadata": {},
     "output_type": "execute_result"
    }
   ],
   "source": [
    "# Model training history parameters\n",
    "result=pd.DataFrame(model.history.history)\n",
    "result"
   ]
  },
  {
   "cell_type": "code",
   "execution_count": 20,
   "id": "15178ebd",
   "metadata": {},
   "outputs": [
    {
     "data": {
      "text/plain": [
       "<AxesSubplot: >"
      ]
     },
     "execution_count": 20,
     "metadata": {},
     "output_type": "execute_result"
    },
    {
     "data": {
      "image/png": "[encoded data removed]",
      "text/plain": [
       "<Figure size 640x480 with 1 Axes>"
      ]
     },
     "metadata": {},
     "output_type": "display_data"
    }
   ],
   "source": [
    "# visualising the training history\n",
    "result.plot()"
   ]
  },
  {
   "cell_type": "code",
   "execution_count": 21,
   "id": "7f19e031",
   "metadata": {},
   "outputs": [
    {
     "name": "stdout",
     "output_type": "stream",
     "text": [
      "313/313 [==============================] - 0s 953us/step\n"
     ]
    }
   ],
   "source": [
    "# prediction on test data\n",
    "y_pred=model.predict(X_test)"
   ]
  },
  {
   "cell_type": "code",
   "execution_count": 22,
   "id": "f38f8ce6",
   "metadata": {},
   "outputs": [
    {
     "data": {
      "text/plain": [
       "array([[1.06331710e-04, 8.19576542e-07, 9.81306308e-04, ...,\n",
       "        9.92644548e-01, 4.33382193e-05, 5.35658037e-04],\n",
       "       [1.26961223e-03, 2.61580863e-04, 9.96160984e-01, ...,\n",
       "        1.82534743e-09, 2.49349512e-04, 2.20596466e-08],\n",
       "       [2.12119867e-05, 9.90072489e-01, 2.30196863e-03, ...,\n",
       "        2.30056630e-03, 1.60076027e-03, 1.43024998e-04],\n",
       "       ...,\n",
       "       [1.16865975e-08, 8.26275992e-10, 5.88376174e-08, ...,\n",
       "        4.54336850e-06, 2.53034650e-05, 8.47584684e-04],\n",
       "       [9.28731424e-07, 6.71655380e-06, 5.57342972e-08, ...,\n",
       "        4.88036065e-08, 1.00438076e-03, 1.27346561e-06],\n",
       "       [3.53518749e-06, 4.29500275e-08, 5.31216829e-05, ...,\n",
       "        2.68125522e-09, 7.38678750e-07, 2.13067448e-08]], dtype=float32)"
      ]
     },
     "execution_count": 22,
     "metadata": {},
     "output_type": "execute_result"
    }
   ],
   "source": [
    "# print the predicted values\n",
    "y_pred"
   ]
  },
  {
   "cell_type": "code",
   "execution_count": 23,
   "id": "54c1c077",
   "metadata": {},
   "outputs": [
    {
     "data": {
      "text/plain": [
       "(10000, 10)"
      ]
     },
     "execution_count": 23,
     "metadata": {},
     "output_type": "execute_result"
    }
   ],
   "source": [
    "# check shape\n",
    "y_pred.shape"
   ]
  },
  {
   "cell_type": "code",
   "execution_count": 24,
   "id": "84d88f5a",
   "metadata": {
    "colab": {
     "base_uri": "https://localhost:8080/",
     "height": 282
    },
    "id": "CayeiuS2eE7u",
    "outputId": "47030f18-90bd-40c2-f428-0ece3e4a0f72"
   },
   "outputs": [
    {
     "data": {
      "text/plain": [
       "<matplotlib.image.AxesImage at 0x1e6c07a5160>"
      ]
     },
     "execution_count": 24,
     "metadata": {},
     "output_type": "execute_result"
    },
    {
     "data": {
      "image/png": "[encoded data removed]",
      "text/plain": [
       "<Figure size 640x480 with 1 Axes>"
      ]
     },
     "metadata": {},
     "output_type": "display_data"
    }
   ],
   "source": [
    "plt.imshow(X_test[1],cmap='gray')"
   ]
  },
  {
   "cell_type": "code",
   "execution_count": 25,
   "id": "e1e816b2",
   "metadata": {
    "colab": {
     "base_uri": "https://localhost:8080/"
    },
    "id": "EkFFb4GheNf3",
    "outputId": "7849b3ed-ab7a-4aff-c3d1-6023bea20725"
   },
   "outputs": [
    {
     "data": {
      "text/plain": [
       "2"
      ]
     },
     "execution_count": 25,
     "metadata": {},
     "output_type": "execute_result"
    }
   ],
   "source": [
    "y_test[1]"
   ]
  },
  {
   "cell_type": "code",
   "execution_count": 26,
   "id": "a02b4ea2",
   "metadata": {
    "colab": {
     "base_uri": "https://localhost:8080/"
    },
    "id": "losTyv1geQot",
    "outputId": "21c96ef7-59c3-4df4-905c-f302ae8ac876"
   },
   "outputs": [
    {
     "data": {
      "text/plain": [
       "array([1.2696122e-03, 2.6158086e-04, 9.9616098e-01, 1.7036600e-03,\n",
       "       8.6672131e-10, 1.0550856e-04, 2.4927605e-04, 1.8253474e-09,\n",
       "       2.4934951e-04, 2.2059647e-08], dtype=float32)"
      ]
     },
     "execution_count": 26,
     "metadata": {},
     "output_type": "execute_result"
    }
   ],
   "source": [
    "# prediction probability for each digit\n",
    "y_pred[1]"
   ]
  },
  {
   "cell_type": "code",
   "execution_count": 27,
   "id": "c044ebee",
   "metadata": {
    "colab": {
     "base_uri": "https://localhost:8080/"
    },
    "id": "lIf1ksseebi-",
    "outputId": "2a49518b-23dc-4ca4-b94f-b68395120f43"
   },
   "outputs": [
    {
     "data": {
      "text/plain": [
       "2"
      ]
     },
     "execution_count": 27,
     "metadata": {},
     "output_type": "execute_result"
    }
   ],
   "source": [
    "# predicted digit for the given test sample will be the one with highest prediction probability\n",
    "np.argmax(y_pred[1])"
   ]
  },
  {
   "cell_type": "code",
   "execution_count": 28,
   "id": "a3403025",
   "metadata": {
    "colab": {
     "base_uri": "https://localhost:8080/"
    },
    "id": "wfl9Wh3q2ePV",
    "outputId": "aee14acf-4aa5-4445-c226-f7e653e4d65a"
   },
   "outputs": [
    {
     "data": {
      "text/plain": [
       "array([7, 2, 1, ..., 4, 5, 6], dtype=int64)"
      ]
     },
     "execution_count": 28,
     "metadata": {},
     "output_type": "execute_result"
    }
   ],
   "source": [
    "# getting predicted labels (predicted hand written digits) for all the test samples\n",
    "final_y_predicted=np.argmax(y_pred,axis=1)\n",
    "final_y_predicted"
   ]
  },
  {
   "cell_type": "code",
   "execution_count": 29,
   "id": "00b29032",
   "metadata": {
    "colab": {
     "base_uri": "https://localhost:8080/"
    },
    "id": "X0O_aZGq6_R3",
    "outputId": "dcab0943-f218-4adf-a7c9-3458d02090a9"
   },
   "outputs": [],
   "source": [
    "# Evaluate\n",
    "from sklearn.metrics import confusion_matrix\n",
    "cm = confusion_matrix(y_test, final_y_predicted)"
   ]
  },
  {
   "cell_type": "code",
   "execution_count": 30,
   "id": "b61f4bde",
   "metadata": {
    "colab": {
     "base_uri": "https://localhost:8080/",
     "height": 465
    },
    "id": "nPkVSmXl7Of1",
    "outputId": "c8a4b239-8e90-46be-abfd-b5b61e891f43",
    "scrolled": false
   },
   "outputs": [
    {
     "data": {
      "text/plain": [
       "Text(92.25, 0.5, 'Actual  digit')"
      ]
     },
     "execution_count": 30,
     "metadata": {},
     "output_type": "execute_result"
    },
    {
     "data": {
      "image/png": "[encoded data removed]",
      "text/plain": [
       "<Figure size 1000x500 with 2 Axes>"
      ]
     },
     "metadata": {},
     "output_type": "display_data"
    }
   ],
   "source": [
    "# confusion matrix using seaborn\n",
    "import seaborn as sns\n",
    "sns.set(rc={'figure.figsize':(10,5)})\n",
    "sns.heatmap(cm,annot=True,cmap='PuBu_r',fmt='g')\n",
    "plt.xlabel(\"Predicted digit\")\n",
    "plt.ylabel(\"Actual  digit\") "
   ]
  },
  {
   "cell_type": "code",
   "execution_count": 31,
   "id": "ee492d16",
   "metadata": {},
   "outputs": [
    {
     "name": "stdout",
     "output_type": "stream",
     "text": [
      "              precision    recall  f1-score   support\n",
      "\n",
      "           0       0.96      0.99      0.97       980\n",
      "           1       0.98      0.99      0.98      1135\n",
      "           2       0.97      0.96      0.96      1032\n",
      "           3       0.96      0.95      0.96      1010\n",
      "           4       0.94      0.98      0.96       982\n",
      "           5       0.96      0.95      0.95       892\n",
      "           6       0.97      0.97      0.97       958\n",
      "           7       0.97      0.94      0.96      1028\n",
      "           8       0.95      0.95      0.95       974\n",
      "           9       0.94      0.94      0.94      1009\n",
      "\n",
      "    accuracy                           0.96     10000\n",
      "   macro avg       0.96      0.96      0.96     10000\n",
      "weighted avg       0.96      0.96      0.96     10000\n",
      "\n"
     ]
    }
   ],
   "source": [
    "# print classwise precision recall f1 score\n",
    "from sklearn.metrics import classification_report\n",
    "print(classification_report(y_test,final_y_predicted))"
   ]
  },
  {
   "cell_type": "markdown",
   "id": "f0d51033",
   "metadata": {},
   "source": [
    "# Save and load"
   ]
  },
  {
   "cell_type": "code",
   "execution_count": 32,
   "id": "3f2a91bf",
   "metadata": {},
   "outputs": [],
   "source": [
    "model.save(\"savemodel.h5\")"
   ]
  },
  {
   "cell_type": "code",
   "execution_count": 33,
   "id": "30256029",
   "metadata": {},
   "outputs": [
    {
     "name": "stdout",
     "output_type": "stream",
     "text": [
      "313/313 [==============================] - 0s 1ms/step\n",
      "              precision    recall  f1-score   support\n",
      "\n",
      "           0       0.96      0.99      0.97       980\n",
      "           1       0.98      0.99      0.98      1135\n",
      "           2       0.97      0.96      0.96      1032\n",
      "           3       0.96      0.95      0.96      1010\n",
      "           4       0.94      0.98      0.96       982\n",
      "           5       0.96      0.95      0.95       892\n",
      "           6       0.97      0.97      0.97       958\n",
      "           7       0.97      0.94      0.96      1028\n",
      "           8       0.95      0.95      0.95       974\n",
      "           9       0.94      0.94      0.94      1009\n",
      "\n",
      "    accuracy                           0.96     10000\n",
      "   macro avg       0.96      0.96      0.96     10000\n",
      "weighted avg       0.96      0.96      0.96     10000\n",
      "\n"
     ]
    }
   ],
   "source": [
    "from tensorflow.keras.models import load_model\n",
    "# load model\n",
    "model = load_model('savemodel.h5')\n",
    "load_pred = model.predict(X_test)\n",
    "load_pred = np.argmax(load_pred,axis=1)\n",
    "print(classification_report(y_test,load_pred))"
   ]
  },
  {
   "cell_type": "code",
   "execution_count": 34,
   "id": "45203f3b",
   "metadata": {},
   "outputs": [
    {
     "name": "stdout",
     "output_type": "stream",
     "text": [
      "Epoch 1/10\n",
      "1482/1500 [============================>.] - ETA: 0s - loss: 0.1181 - accuracy: 0.9654\n",
      "Epoch 1: val_accuracy improved from -inf to 0.96075, saving model to bestcheckpoint.h5\n",
      "1500/1500 [==============================] - 3s 2ms/step - loss: 0.1183 - accuracy: 0.9654 - val_loss: 0.1332 - val_accuracy: 0.9607\n",
      "Epoch 2/10\n",
      "1495/1500 [============================>.] - ETA: 0s - loss: 0.1098 - accuracy: 0.9685\n",
      "Epoch 2: val_accuracy improved from 0.96075 to 0.96367, saving model to bestcheckpoint.h5\n",
      "1500/1500 [==============================] - 3s 2ms/step - loss: 0.1098 - accuracy: 0.9685 - val_loss: 0.1264 - val_accuracy: 0.9637\n",
      "Epoch 3/10\n",
      "1498/1500 [============================>.] - ETA: 0s - loss: 0.1024 - accuracy: 0.9707\n",
      "Epoch 3: val_accuracy improved from 0.96367 to 0.96392, saving model to bestcheckpoint.h5\n",
      "1500/1500 [==============================] - 3s 2ms/step - loss: 0.1024 - accuracy: 0.9707 - val_loss: 0.1213 - val_accuracy: 0.9639\n",
      "Epoch 4/10\n",
      "1473/1500 [============================>.] - ETA: 0s - loss: 0.0959 - accuracy: 0.9725\n",
      "Epoch 4: val_accuracy improved from 0.96392 to 0.96542, saving model to bestcheckpoint.h5\n",
      "1500/1500 [==============================] - 3s 2ms/step - loss: 0.0954 - accuracy: 0.9726 - val_loss: 0.1183 - val_accuracy: 0.9654\n",
      "Epoch 5/10\n",
      "1499/1500 [============================>.] - ETA: 0s - loss: 0.0894 - accuracy: 0.9746\n",
      "Epoch 5: val_accuracy did not improve from 0.96542\n",
      "1500/1500 [==============================] - 3s 2ms/step - loss: 0.0894 - accuracy: 0.9746 - val_loss: 0.1171 - val_accuracy: 0.9646\n",
      "Epoch 6/10\n",
      "1499/1500 [============================>.] - ETA: 0s - loss: 0.0841 - accuracy: 0.9758\n",
      "Epoch 6: val_accuracy improved from 0.96542 to 0.96675, saving model to bestcheckpoint.h5\n",
      "1500/1500 [==============================] - 4s 3ms/step - loss: 0.0841 - accuracy: 0.9759 - val_loss: 0.1120 - val_accuracy: 0.9668\n",
      "Epoch 7/10\n",
      "1491/1500 [============================>.] - ETA: 0s - loss: 0.0795 - accuracy: 0.9777\n",
      "Epoch 7: val_accuracy improved from 0.96675 to 0.96858, saving model to bestcheckpoint.h5\n",
      "1500/1500 [==============================] - 4s 3ms/step - loss: 0.0793 - accuracy: 0.9778 - val_loss: 0.1076 - val_accuracy: 0.9686\n",
      "Epoch 8/10\n",
      "1500/1500 [==============================] - ETA: 0s - loss: 0.0746 - accuracy: 0.9793\n",
      "Epoch 8: val_accuracy improved from 0.96858 to 0.96917, saving model to bestcheckpoint.h5\n",
      "1500/1500 [==============================] - 3s 2ms/step - loss: 0.0746 - accuracy: 0.9793 - val_loss: 0.1070 - val_accuracy: 0.9692\n",
      "Epoch 9/10\n",
      "1492/1500 [============================>.] - ETA: 0s - loss: 0.0704 - accuracy: 0.9805\n",
      "Epoch 9: val_accuracy did not improve from 0.96917\n",
      "1500/1500 [==============================] - 3s 2ms/step - loss: 0.0703 - accuracy: 0.9805 - val_loss: 0.1052 - val_accuracy: 0.9686\n",
      "Epoch 10/10\n",
      "1482/1500 [============================>.] - ETA: 0s - loss: 0.0663 - accuracy: 0.9814\n",
      "Epoch 10: val_accuracy improved from 0.96917 to 0.96933, saving model to bestcheckpoint.h5\n",
      "1500/1500 [==============================] - 4s 2ms/step - loss: 0.0663 - accuracy: 0.9814 - val_loss: 0.1032 - val_accuracy: 0.9693\n"
     ]
    },
    {
     "data": {
      "text/plain": [
       "<keras.callbacks.History at 0x1e6de197700>"
      ]
     },
     "execution_count": 34,
     "metadata": {},
     "output_type": "execute_result"
    }
   ],
   "source": [
    "# Model check point and early stopping\n",
    "from keras.callbacks import ModelCheckpoint, EarlyStopping\n",
    "filepath = \"bestcheckpoint.h5\"\n",
    "checkpoint = ModelCheckpoint(filepath, monitor='val_accuracy', verbose=1, save_best_only=True, mode='max')\n",
    "callbacks_list = [checkpoint]\n",
    "model.fit(X_train, y_train, validation_split=0.2, epochs=10, callbacks=callbacks_list)"
   ]
  },
  {
   "cell_type": "code",
   "execution_count": 35,
   "id": "9eeecd56",
   "metadata": {},
   "outputs": [
    {
     "name": "stdout",
     "output_type": "stream",
     "text": [
      "313/313 [==============================] - 0s 1ms/step\n",
      "              precision    recall  f1-score   support\n",
      "\n",
      "           0       0.98      0.98      0.98       980\n",
      "           1       0.98      0.99      0.99      1135\n",
      "           2       0.97      0.98      0.97      1032\n",
      "           3       0.98      0.95      0.97      1010\n",
      "           4       0.97      0.98      0.97       982\n",
      "           5       0.97      0.97      0.97       892\n",
      "           6       0.97      0.98      0.97       958\n",
      "           7       0.96      0.98      0.97      1028\n",
      "           8       0.97      0.96      0.97       974\n",
      "           9       0.97      0.96      0.96      1009\n",
      "\n",
      "    accuracy                           0.97     10000\n",
      "   macro avg       0.97      0.97      0.97     10000\n",
      "weighted avg       0.97      0.97      0.97     10000\n",
      "\n"
     ]
    }
   ],
   "source": [
    "from tensorflow.keras.models import load_model\n",
    "# load model\n",
    "model = load_model('bestcheckpoint.h5')\n",
    "load_pred = model.predict(X_test)\n",
    "load_pred = np.argmax(load_pred,axis=1)\n",
    "print(classification_report(y_test,load_pred))"
   ]
  },
  {
   "cell_type": "code",
   "execution_count": 36,
   "id": "7696a094",
   "metadata": {},
   "outputs": [
    {
     "name": "stdout",
     "output_type": "stream",
     "text": [
      "Epoch 1/10\n",
      "1496/1500 [============================>.] - ETA: 0s - loss: 0.0630 - accuracy: 0.9824\n",
      "Epoch 1: val_accuracy improved from -inf to 0.97042, saving model to earlystopping.h5\n",
      "1500/1500 [==============================] - 4s 3ms/step - loss: 0.0630 - accuracy: 0.9824 - val_loss: 0.1024 - val_accuracy: 0.9704\n",
      "Epoch 2/10\n",
      "1472/1500 [============================>.] - ETA: 0s - loss: 0.0597 - accuracy: 0.9831\n",
      "Epoch 2: val_accuracy improved from 0.97042 to 0.97067, saving model to earlystopping.h5\n",
      "1500/1500 [==============================] - 3s 2ms/step - loss: 0.0595 - accuracy: 0.9832 - val_loss: 0.0998 - val_accuracy: 0.9707\n",
      "Epoch 3/10\n",
      "1483/1500 [============================>.] - ETA: 0s - loss: 0.0565 - accuracy: 0.9849\n",
      "Epoch 3: val_accuracy did not improve from 0.97067\n",
      "1500/1500 [==============================] - 3s 2ms/step - loss: 0.0564 - accuracy: 0.9848 - val_loss: 0.0983 - val_accuracy: 0.9707\n",
      "Epoch 4/10\n",
      "1494/1500 [============================>.] - ETA: 0s - loss: 0.0534 - accuracy: 0.9854\n",
      "Epoch 4: val_accuracy improved from 0.97067 to 0.97217, saving model to earlystopping.h5\n",
      "1500/1500 [==============================] - 3s 2ms/step - loss: 0.0535 - accuracy: 0.9854 - val_loss: 0.0955 - val_accuracy: 0.9722\n",
      "Epoch 5/10\n",
      "1478/1500 [============================>.] - ETA: 0s - loss: 0.0509 - accuracy: 0.9868\n",
      "Epoch 5: val_accuracy did not improve from 0.97217\n",
      "1500/1500 [==============================] - 3s 2ms/step - loss: 0.0507 - accuracy: 0.9869 - val_loss: 0.0952 - val_accuracy: 0.9721\n",
      "Epoch 6/10\n",
      "1484/1500 [============================>.] - ETA: 0s - loss: 0.0486 - accuracy: 0.9872\n",
      "Epoch 6: val_accuracy did not improve from 0.97217\n",
      "1500/1500 [==============================] - 3s 2ms/step - loss: 0.0484 - accuracy: 0.9872 - val_loss: 0.0942 - val_accuracy: 0.9718\n"
     ]
    },
    {
     "data": {
      "text/plain": [
       "<keras.callbacks.History at 0x1e6de22ddf0>"
      ]
     },
     "execution_count": 36,
     "metadata": {},
     "output_type": "execute_result"
    }
   ],
   "source": [
    "filepath = \"earlystopping.h5\"\n",
    "checkpoint = ModelCheckpoint(filepath, monitor='val_accuracy', verbose=1, save_best_only=True, mode='max')\n",
    "es = EarlyStopping(monitor='val_accuracy', patience=2)\n",
    "callbacks_list = [checkpoint, es]\n",
    "model.fit(X_train, y_train, validation_split=0.2, epochs=10, callbacks=callbacks_list)"
   ]
  },
  {
   "cell_type": "code",
   "execution_count": 37,
   "id": "6e8bb610",
   "metadata": {},
   "outputs": [
    {
     "name": "stdout",
     "output_type": "stream",
     "text": [
      "313/313 [==============================] - 0s 1ms/step\n",
      "              precision    recall  f1-score   support\n",
      "\n",
      "           0       0.98      0.98      0.98       980\n",
      "           1       0.99      0.99      0.99      1135\n",
      "           2       0.97      0.98      0.97      1032\n",
      "           3       0.97      0.96      0.97      1010\n",
      "           4       0.97      0.97      0.97       982\n",
      "           5       0.97      0.97      0.97       892\n",
      "           6       0.98      0.97      0.97       958\n",
      "           7       0.97      0.97      0.97      1028\n",
      "           8       0.97      0.96      0.97       974\n",
      "           9       0.96      0.96      0.96      1009\n",
      "\n",
      "    accuracy                           0.97     10000\n",
      "   macro avg       0.97      0.97      0.97     10000\n",
      "weighted avg       0.97      0.97      0.97     10000\n",
      "\n"
     ]
    }
   ],
   "source": [
    "from tensorflow.keras.models import load_model\n",
    "# load model\n",
    "model = load_model('earlystopping.h5')\n",
    "load_pred = model.predict(X_test)\n",
    "load_pred = np.argmax(load_pred,axis=1)\n",
    "print(classification_report(y_test,load_pred))"
   ]
  }
 ],
 "metadata": {
  "kernelspec": {
   "display_name": "Python 3 (ipykernel)",
   "language": "python",
   "name": "python3"
  },
  "language_info": {
   "codemirror_mode": {
    "name": "ipython",
    "version": 3
   },
   "file_extension": ".py",
   "mimetype": "text/x-python",
   "name": "python",
   "nbconvert_exporter": "python",
   "pygments_lexer": "ipython3",
   "version": "3.9.16"
  }
 },
 "nbformat": 4,
 "nbformat_minor": 5
}
