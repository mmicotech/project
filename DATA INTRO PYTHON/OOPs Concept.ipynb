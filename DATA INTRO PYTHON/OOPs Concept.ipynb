{
 "cells": [
  {
   "cell_type": "markdown",
   "id": "5294318b",
   "metadata": {},
   "source": [
    "## Object Oriented Programming"
   ]
  },
  {
   "cell_type": "code",
   "execution_count": 2,
   "id": "0ef5715d",
   "metadata": {},
   "outputs": [
    {
     "name": "stdout",
     "output_type": "stream",
     "text": [
      "<class 'int'>\n",
      "<class 'float'>\n"
     ]
    }
   ],
   "source": [
    "a=10\n",
    "b=3.4\n",
    "print(type(a))\n",
    "print(type(b))"
   ]
  },
  {
   "cell_type": "code",
   "execution_count": 7,
   "id": "c71b9a34",
   "metadata": {},
   "outputs": [
    {
     "name": "stdout",
     "output_type": "stream",
     "text": [
      "102\n",
      "Suchita\n",
      "40\n",
      "102\n",
      "Suchita\n",
      "40\n",
      "102\n",
      "Suchita\n",
      "40\n"
     ]
    }
   ],
   "source": [
    "# 1 Program to demonstrate class and object concept\n",
    "\n",
    "class Student:\n",
    "    roll_no=102\n",
    "    name=\"Suchita\"\n",
    "    age=40\n",
    "    def display(self):\n",
    "        print(self.roll_no)\n",
    "        print(self.name)\n",
    "        print(self.age)\n",
    "\n",
    "st=Student()\n",
    "st1=Student()\n",
    "st3=Student()\n",
    "st.display()  \n",
    "st1.display()\n",
    "st3.display()\n"
   ]
  },
  {
   "cell_type": "code",
   "execution_count": null,
   "id": "92d47ac4",
   "metadata": {},
   "outputs": [],
   "source": [
    "# Task Create Employee Class for an object, \n",
    "#attribute Emp_id=101,Emp_name=Jose,Emp_dep=Computer,Sal=12000 and display details"
   ]
  },
  {
   "cell_type": "code",
   "execution_count": 9,
   "id": "d96977e9",
   "metadata": {},
   "outputs": [
    {
     "name": "stdout",
     "output_type": "stream",
     "text": [
      "Toyoto\n",
      "2016\n",
      "BMW\n",
      "2020\n"
     ]
    }
   ],
   "source": [
    "# 2 Parameterized constructor\n",
    "class Car:\n",
    "    def __init__(self,modelname,year):\n",
    "        self.modelname=modelname\n",
    "        self.year=year\n",
    "    def display(self):\n",
    "        print(self.modelname)\n",
    "        print(self.year)\n",
    "    \n",
    "c1=Car(\"Toyoto\",2016)\n",
    "c2=Car(\"BMW\",2020)\n",
    "c1.display()\n",
    "c2.display()\n",
    "\n",
    "        \n"
   ]
  },
  {
   "cell_type": "code",
   "execution_count": 10,
   "id": "3a42440c",
   "metadata": {},
   "outputs": [
    {
     "name": "stdout",
     "output_type": "stream",
     "text": [
      "BMW\n",
      "2023\n"
     ]
    }
   ],
   "source": [
    "class Car:\n",
    "    def __init__(self,model,year):\n",
    "        self.model=model\n",
    "        self.year=year\n",
    "    def display(self):\n",
    "        print(self.model)\n",
    "        print(self.year)\n",
    " \n",
    "str=Car(\"BMW\",2023)\n",
    "str.display()"
   ]
  },
  {
   "cell_type": "code",
   "execution_count": 3,
   "id": "dea10b39",
   "metadata": {},
   "outputs": [
    {
     "name": "stdout",
     "output_type": "stream",
     "text": [
      "Blu 10\n",
      "Woo 15\n",
      "bird\n"
     ]
    }
   ],
   "source": [
    "# 3 Program to demonstrate constructor (Need To Work)\n",
    "class Parrot:\n",
    "    # class attribute \n",
    "    species = \"bird\" # instance attribute\n",
    "    def __init__(self, name, age): \n",
    "        self.name = name \n",
    "        self.age = age # instantiate the Parrot class\n",
    "blu = Parrot(\"Blu\", 10) \n",
    "woo = Parrot(\"Woo\", 15) # access the instance attributes\n",
    "print( blu.name, blu.age)\n",
    "print( woo.name, woo.age)\n",
    "print(Parrot.species)"
   ]
  },
  {
   "cell_type": "code",
   "execution_count": 10,
   "id": "cbb94489",
   "metadata": {},
   "outputs": [
    {
     "name": "stdout",
     "output_type": "stream",
     "text": [
      "10\n",
      "Blu sings 'Happy'\n",
      "Blu is now dancing\n"
     ]
    }
   ],
   "source": [
    "# 4 Program with instance method\n",
    "class Parrot: # instance attributes\n",
    "    def __init__(self, name, age):\n",
    "        self.name = name \n",
    "        self.age = age # instance method\n",
    "        print(age)\n",
    "    def sing(self, song): \n",
    "            return \"{} sings {}\".format(self.name, song)\n",
    "    def dance(self): \n",
    "            return \"{} is now dancing\".format(self.name) # instantiate the object \n",
    "blu = Parrot(\"Blu\", 10) \n",
    "# call our instance methods \n",
    "print(blu.sing(\"'Happy'\")) \n",
    "print(blu.dance())"
   ]
  },
  {
   "cell_type": "code",
   "execution_count": 3,
   "id": "ba94b1fc",
   "metadata": {},
   "outputs": [
    {
     "name": "stdout",
     "output_type": "stream",
     "text": [
      "enter student name:Suchita\n",
      "enter student rollno:2\n",
      "Enter Students DepartmentComp\n",
      "enter student name:Mick\n",
      "enter student rollno:3\n",
      "Enter Students DepartmentIT\n",
      "enter student name:Steve\n",
      "enter student rollno:4\n",
      "Enter Students DepartmentSales\n",
      "Name: Suchita Rollno: 2 Department Comp\n",
      "Name: Mick Rollno: 3 Department IT\n",
      "Name: Steve Rollno: 4 Department Sales\n"
     ]
    }
   ],
   "source": [
    "class Student: \n",
    "     \n",
    "    # initialization or constructor method of \n",
    "    def __init__(self):   \n",
    "          \n",
    "        # class Student \n",
    "        self.name = input(\"Enter student name:\") \n",
    "        self.rollno =int(input(\"Enter student rollno:\"))\n",
    "        self.dept=input(\"Enter Student Department\")\n",
    "        \n",
    "  \n",
    "    # displayStudent method of class Student \n",
    "    def displayStudent(self):   \n",
    "        print(\"Name:\", self.name, \"Rollno:\", self.rollno,\"Department\",self.dept) \n",
    "  \n",
    "  \n",
    "stu1 = Student() \n",
    "stu2 = Student() \n",
    "stu3 = Student() \n",
    "stu1.displayStudent() \n",
    "stu2.displayStudent() \n",
    "stu3.displayStudent() \n"
   ]
  },
  {
   "cell_type": "code",
   "execution_count": 6,
   "id": "6ed9d531",
   "metadata": {},
   "outputs": [
    {
     "name": "stdout",
     "output_type": "stream",
     "text": [
      "Enter students  name:such\n",
      "Enter roll no:3\n",
      "Enter dep:3\n",
      "such\n"
     ]
    },
    {
     "ename": "NameError",
     "evalue": "name 'sellf' is not defined",
     "output_type": "error",
     "traceback": [
      "\u001b[1;31m---------------------------------------------------------------------------\u001b[0m",
      "\u001b[1;31mNameError\u001b[0m                                 Traceback (most recent call last)",
      "Input \u001b[1;32mIn [6]\u001b[0m, in \u001b[0;36m<cell line: 13>\u001b[1;34m()\u001b[0m\n\u001b[0;32m     11\u001b[0m             \u001b[38;5;28mprint\u001b[39m(\u001b[38;5;28mself\u001b[39m\u001b[38;5;241m.\u001b[39mdep)\n\u001b[0;32m     12\u001b[0m std\u001b[38;5;241m=\u001b[39mStudent()\n\u001b[1;32m---> 13\u001b[0m \u001b[43mstd\u001b[49m\u001b[38;5;241;43m.\u001b[39;49m\u001b[43mdisplaystudent\u001b[49m\u001b[43m(\u001b[49m\u001b[43m)\u001b[49m\n",
      "Input \u001b[1;32mIn [6]\u001b[0m, in \u001b[0;36mStudent.displaystudent\u001b[1;34m(self)\u001b[0m\n\u001b[0;32m      8\u001b[0m \u001b[38;5;28;01mdef\u001b[39;00m \u001b[38;5;21mdisplaystudent\u001b[39m(\u001b[38;5;28mself\u001b[39m):\n\u001b[0;32m      9\u001b[0m         \u001b[38;5;28mprint\u001b[39m(\u001b[38;5;28mself\u001b[39m\u001b[38;5;241m.\u001b[39mname)\n\u001b[1;32m---> 10\u001b[0m         \u001b[38;5;28mprint\u001b[39m(\u001b[43msellf\u001b[49m\u001b[38;5;241m.\u001b[39mrollno)\n\u001b[0;32m     11\u001b[0m         \u001b[38;5;28mprint\u001b[39m(\u001b[38;5;28mself\u001b[39m\u001b[38;5;241m.\u001b[39mdep)\n",
      "\u001b[1;31mNameError\u001b[0m: name 'sellf' is not defined"
     ]
    }
   ],
   "source": [
    "class Student:\n",
    "    def __init__ (self):\n",
    "        #class student\n",
    "        self.name=input(\"Enter students  name:\")\n",
    "        self.rollno=int(input(\"Enter roll no:\"))\n",
    "        self.dep=int(input(\"Enter dep:\"))\n",
    "        #display Student method of  class student\n",
    "    def displaystudent(self):\n",
    "            print(self.name)\n",
    "            print(sellf.rollno)\n",
    "            print(self.dep)\n",
    "std=Student()\n",
    "std.displaystudent()"
   ]
  },
  {
   "cell_type": "code",
   "execution_count": null,
   "id": "f1ba6ae6",
   "metadata": {},
   "outputs": [],
   "source": [
    "# 6 Count the number of objects"
   ]
  },
  {
   "cell_type": "code",
   "execution_count": 11,
   "id": "b3075c00",
   "metadata": {},
   "outputs": [
    {
     "name": "stdout",
     "output_type": "stream",
     "text": [
      "enter student name:Suchita\n",
      "enter student rollno:2\n",
      "enter student name:Mike\n",
      "enter student rollno:3\n",
      "enter student name:Steve\n",
      "enter student rollno:4\n",
      "Name: Suchita Rollno: 2\n",
      "Name: Mike Rollno: 3\n",
      "Name: Steve Rollno: 4\n",
      "total no. of students: 3\n"
     ]
    }
   ],
   "source": [
    "class Student: \n",
    "    stuCount = 0 # Class Variable\n",
    "  \n",
    "    # initialization or constructor method of \n",
    "    def __init__(self):   \n",
    "        self.name = input('enter student name:') \n",
    "        self.rollno = input('enter student rollno:') \n",
    "        Student.stuCount += 1  # Incrementation\n",
    "    \n",
    "    # displayStudent method of class Student \n",
    "    def displayStudent(self):   \n",
    "        print(\"Name:\", self.name, \"Rollno:\", self.rollno) \n",
    "  \n",
    "  \n",
    "stu1 = Student() \n",
    "stu2 = Student() \n",
    "stu3 = Student() \n",
    "stu1.displayStudent() \n",
    "stu2.displayStudent() \n",
    "stu3.displayStudent() \n",
    "print('total no. of students:', Student.stuCount) "
   ]
  },
  {
   "cell_type": "code",
   "execution_count": null,
   "id": "f0701317",
   "metadata": {},
   "outputs": [],
   "source": [
    "# 7 More than one constructor"
   ]
  },
  {
   "cell_type": "code",
   "execution_count": null,
   "id": "8af8799a",
   "metadata": {},
   "outputs": [],
   "source": []
  },
  {
   "cell_type": "code",
   "execution_count": 13,
   "id": "95651e4e",
   "metadata": {},
   "outputs": [
    {
     "name": "stdout",
     "output_type": "stream",
     "text": [
      "Enter Roll Number : 1\n",
      "Enter Student Name : Suchita\n",
      "Enter Marks : 60\n",
      "Marks Added successfully\n"
     ]
    }
   ],
   "source": [
    "class Student:\n",
    "    def __init__(self):\n",
    "        self.student_details = {}\n",
    " \n",
    "    def input_student_details(self): # input student details\n",
    "        roll_number = input(\"Enter Roll Number : \")\n",
    "        name = input(\"Enter Student Name : \")\n",
    "        marks = float(input(\"Enter Marks : \"))\n",
    "        self.student_details[roll_number] = {'name': name, 'marks': marks}\n",
    "        print(\"Marks Added successfully\")\n",
    "obj = Student()\n",
    "obj.input_student_details()\n"
   ]
  },
  {
   "cell_type": "code",
   "execution_count": null,
   "id": "5cad023d",
   "metadata": {},
   "outputs": [],
   "source": []
  },
  {
   "cell_type": "code",
   "execution_count": null,
   "id": "394be042",
   "metadata": {},
   "outputs": [],
   "source": [
    "#Task Create a Class Students\n",
    "#Take choices as 1,2,3,4 and perform following operation\n",
    "#1.Inputs: Roll number,name,marks\n",
    "#2.Update: values if roll number exist\n",
    "#3.Display:Enter Roll No diplay details of Students\n",
    "#4.Exit\n"
   ]
  },
  {
   "cell_type": "code",
   "execution_count": 2,
   "id": "fc78c65b",
   "metadata": {},
   "outputs": [
    {
     "name": "stdout",
     "output_type": "stream",
     "text": [
      "\n",
      " ********* Student Management System *********  \n",
      "\n",
      "1. Input Student Details\n",
      "2. Update Student Marks\n",
      "3. Print Student Details\n",
      "4. Exit\n",
      "\n",
      "Enter your Choice (1 to 4): 1\n",
      "Enter Roll Number : 1\n",
      "Enter Student Name : Suchita\n",
      "Enter Marks : 30\n",
      "Marks Added successfully\n",
      "\n",
      " ********* Student Management System *********  \n",
      "\n",
      "1. Input Student Details\n",
      "2. Update Student Marks\n",
      "3. Print Student Details\n",
      "4. Exit\n",
      "\n",
      "Enter your Choice (1 to 4): 1\n",
      "Enter Roll Number : 2\n",
      "Enter Student Name : Lisa\n",
      "Enter Marks : 40\n",
      "Marks Added successfully\n",
      "\n",
      " ********* Student Management System *********  \n",
      "\n",
      "1. Input Student Details\n",
      "2. Update Student Marks\n",
      "3. Print Student Details\n",
      "4. Exit\n",
      "\n",
      "Enter your Choice (1 to 4): 1\n",
      "Enter Roll Number : 3\n",
      "Enter Student Name : Mike\n",
      "Enter Marks : 50\n",
      "Marks Added successfully\n",
      "\n",
      " ********* Student Management System *********  \n",
      "\n",
      "1. Input Student Details\n",
      "2. Update Student Marks\n",
      "3. Print Student Details\n",
      "4. Exit\n",
      "\n",
      "Enter your Choice (1 to 4): 2\n",
      "Enter Roll Number of the Student to Update Marks : 4\n",
      "Student not found\n",
      "\n",
      " ********* Student Management System *********  \n",
      "\n",
      "1. Input Student Details\n",
      "2. Update Student Marks\n",
      "3. Print Student Details\n",
      "4. Exit\n",
      "\n",
      "Enter your Choice (1 to 4): 2\n",
      "Enter Roll Number of the Student to Update Marks : 2\n",
      "Enter New Marks : 45\n",
      "Marks updated successfully\n",
      "\n",
      " ********* Student Management System *********  \n",
      "\n",
      "1. Input Student Details\n",
      "2. Update Student Marks\n",
      "3. Print Student Details\n",
      "4. Exit\n",
      "\n",
      "Enter your Choice (1 to 4): 3\n",
      "Enter Roll Number of the student to view details : 2\n",
      "Roll Number : 2\n",
      "Student Name : Lisa\n",
      "Marks : 45.0\n",
      "\n",
      " ********* Student Management System *********  \n",
      "\n",
      "1. Input Student Details\n",
      "2. Update Student Marks\n",
      "3. Print Student Details\n",
      "4. Exit\n",
      "\n",
      "Enter your Choice (1 to 4): 3\n",
      "Enter Roll Number of the student to view details : 1\n",
      "Roll Number : 1\n",
      "Student Name : Suchita\n",
      "Marks : 30.0\n",
      "\n",
      " ********* Student Management System *********  \n",
      "\n",
      "1. Input Student Details\n",
      "2. Update Student Marks\n",
      "3. Print Student Details\n",
      "4. Exit\n",
      "\n",
      "Enter your Choice (1 to 4): 5\n",
      "Invalid Choice. Please Try Again !!!\n",
      "\n",
      " ********* Student Management System *********  \n",
      "\n",
      "1. Input Student Details\n",
      "2. Update Student Marks\n",
      "3. Print Student Details\n",
      "4. Exit\n",
      "\n",
      "Enter your Choice (1 to 4): 4\n",
      "Exiting the program\n"
     ]
    }
   ],
   "source": [
    "class Student:\n",
    "    def __init__(self):\n",
    "        self.student_details = {}\n",
    " \n",
    "    def input_student_details(self): # input student details\n",
    "        roll_number = input(\"Enter Roll Number : \")\n",
    "        name = input(\"Enter Student Name : \")\n",
    "        marks = float(input(\"Enter Marks : \"))\n",
    "        self.student_details[roll_number] = {'name': name, 'marks': marks}\n",
    "        print(\"Marks Added successfully\")\n",
    " \n",
    "    def update_student_marks(self):\t  # update student marks\n",
    "        roll_number = input(\"Enter Roll Number of the Student to Update Marks : \")\n",
    "        if roll_number in self.student_details:\n",
    "            new_marks = float(input(\"Enter New Marks : \"))\n",
    "            self.student_details[roll_number]['marks'] = new_marks\n",
    "            print(\"Marks updated successfully\")\n",
    "        else:\n",
    "            print(\"Student not found\")\n",
    " \n",
    "    def print_student_details(self):# print student details\n",
    "        roll_number = input(\"Enter Roll Number of the student to view details : \")\n",
    "        if roll_number in self.student_details:\n",
    "            student = self.student_details[roll_number]\n",
    "            print(\"Roll Number :\", roll_number)\n",
    "            print(\"Student Name :\", student['name'])\n",
    "            print(\"Marks :\", student['marks'])\n",
    "        else:\n",
    "            print(\"Student not found\")\n",
    " \n",
    "obj = Student()\n",
    "\n",
    " \n",
    "while True:\n",
    "    print(\"\\n ********* Student Management System *********  \")\n",
    "    print(\"\\n1. Input Student Details\")\n",
    "    print(\"2. Update Student Marks\")\n",
    "    print(\"3. Print Student Details\")\n",
    "    print(\"4. Exit\")\n",
    " \n",
    "    choice = input(\"\\nEnter your Choice (1 to 4): \")\n",
    " \n",
    "    if choice == '1':\n",
    "        obj.input_student_details()\n",
    "    elif choice == '2':\n",
    "        obj.update_student_marks()\n",
    "    elif choice == '3':\n",
    "        obj.print_student_details()\n",
    "    elif choice == '4':\n",
    "        print(\"Exiting the program\")\n",
    "        break\n",
    "    else:\n",
    "        print(\"Invalid Choice. Please Try Again !!!\")\n",
    "\n"
   ]
  },
  {
   "cell_type": "code",
   "execution_count": 1,
   "id": "75ba8299",
   "metadata": {},
   "outputs": [
    {
     "name": "stdout",
     "output_type": "stream",
     "text": [
      "Enter Roll Number : 1\n",
      "Enter Student Name : Suchita\n",
      "Enter Marks : 20\n",
      "Marks Added successfully\n",
      "Enter Roll Number of the Student to Update Marks : 1\n",
      "Enter New Marks : 50\n",
      "Marks updated successfully\n"
     ]
    }
   ],
   "source": [
    "class Student:\n",
    "    def __init__(self):\n",
    "        self.student_details = {}\n",
    " \n",
    "    def input_student_details(self): # input student details\n",
    "        roll_number = input(\"Enter Roll Number : \")\n",
    "        name = input(\"Enter Student Name : \")\n",
    "        marks = float(input(\"Enter Marks : \"))\n",
    "        self.student_details[roll_number] = {'name': name, 'marks': marks}\n",
    "        print(\"Marks Added successfully\")\n",
    " \n",
    "    def update_student_marks(self):\t  # update student marks\n",
    "        roll_number = input(\"Enter Roll Number of the Student to Update Marks : \")\n",
    "        if roll_number in self.student_details:\n",
    "            new_marks = float(input(\"Enter New Marks : \"))\n",
    "            self.student_details[roll_number]['marks'] = new_marks\n",
    "            print(\"Marks updated successfully\")\n",
    "        else:\n",
    "            print(\"Student not found\")\n",
    "obj = Student()\n",
    "obj.input_student_details()\n",
    "obj.update_student_marks()"
   ]
  },
  {
   "cell_type": "markdown",
   "id": "78cfd4e3",
   "metadata": {},
   "source": [
    "## Inheritance"
   ]
  },
  {
   "cell_type": "code",
   "execution_count": null,
   "id": "a19c2e92",
   "metadata": {},
   "outputs": [],
   "source": [
    "# Single Inheritance\n"
   ]
  },
  {
   "cell_type": "code",
   "execution_count": null,
   "id": "d86fb50d",
   "metadata": {},
   "outputs": [],
   "source": [
    "#Multi-Level inheritance"
   ]
  },
  {
   "cell_type": "code",
   "execution_count": null,
   "id": "8b0f0217",
   "metadata": {},
   "outputs": [],
   "source": [
    "#Multiple Inheritance"
   ]
  },
  {
   "cell_type": "code",
   "execution_count": null,
   "id": "6d1a4929",
   "metadata": {},
   "outputs": [],
   "source": [
    "# Create a Person class and employee child class"
   ]
  },
  {
   "cell_type": "code",
   "execution_count": 13,
   "id": "3b110aa5",
   "metadata": {},
   "outputs": [
    {
     "name": "stdout",
     "output_type": "stream",
     "text": [
      "Rahul\n",
      "886012\n"
     ]
    }
   ],
   "source": [
    "class Person():\n",
    "  # __init__ is known as the constructor\n",
    "    def __init__(self, name, idnumber):\n",
    "        self.name = name\n",
    "        self.idnumber = idnumber\n",
    " \n",
    "    def display(self):\n",
    "        print(self.name)\n",
    "        print(self.idnumber)\n",
    "        \n",
    "class Employee(Person):\n",
    "    def __init__(self, name, idnumber, salary, post):\n",
    "        self.salary = salary\n",
    "        self.post = post\n",
    " \n",
    "        # invoking the __init__ of the parent class\n",
    "        Person.__init__(self, name, idnumber)\n",
    " \n",
    " # creation of an object variable or an instance\n",
    "a = Employee('Rahul', 886012, 200000, \"Intern\")\n",
    " \n",
    "# calling a function of the class Person using its instance\n",
    "a.display()"
   ]
  },
  {
   "cell_type": "code",
   "execution_count": 14,
   "id": "1a191afc",
   "metadata": {},
   "outputs": [
    {
     "name": "stdout",
     "output_type": "stream",
     "text": [
      "Barking\n"
     ]
    }
   ],
   "source": [
    "#  Method Overiding\n",
    "class Animal:\n",
    "    def speak(self): \n",
    "        print(\"speaking\") \n",
    "class Dog(Animal): \n",
    "    def speak(self):\n",
    "        print(\"Barking\") \n",
    "d = Dog() \n",
    "d.speak()"
   ]
  },
  {
   "cell_type": "code",
   "execution_count": 15,
   "id": "7fc180e2",
   "metadata": {},
   "outputs": [
    {
     "name": "stdout",
     "output_type": "stream",
     "text": [
      "Bank Rate of interest: 10\n",
      "SBI Rate of interest: 7\n",
      "ICICI Rate of interest: 8\n"
     ]
    }
   ],
   "source": [
    "class Bank: \n",
    "    def getroi(self):\n",
    "        return 10\n",
    "class SBI(Bank): \n",
    "    def getroi(self):\n",
    "        return 7 \n",
    "class ICICI(Bank): \n",
    "    def getroi(self): \n",
    "        return 8 \n",
    "b1 = Bank() \n",
    "b2 = SBI() \n",
    "b3 = ICICI()\n",
    "print(\"Bank Rate of interest:\",b1.getroi())\n",
    "print(\"SBI Rate of interest:\",b2.getroi()) \n",
    "print(\"ICICI Rate of interest:\",b3.getroi())"
   ]
  },
  {
   "cell_type": "code",
   "execution_count": 19,
   "id": "6a4e634f",
   "metadata": {},
   "outputs": [
    {
     "name": "stdout",
     "output_type": "stream",
     "text": [
      "Bird is ready\n",
      "Penguin is ready\n",
      "Penguin\n",
      "Swim faster\n",
      "Run faster\n"
     ]
    }
   ],
   "source": [
    "# Use of super () : allows us to run the init() method of the parent class\n",
    "#inside the child class.\n",
    "class Bird:\n",
    "    def __init__(self): \n",
    "        print(\"Bird is ready\") \n",
    "    def whoisThis(self): \n",
    "        print(\"Bird\") \n",
    "    def swim(self): \n",
    "        print(\"Swim faster\") # child class \n",
    "    \n",
    "class Penguin(Bird): \n",
    "    def __init__(self): # call super() function\n",
    "        super().__init__()\n",
    "        print(\"Penguin is ready\")\n",
    "    def whoisThis(self): \n",
    "        print(\"Penguin\") \n",
    "    def run(self): \n",
    "        print(\"Run faster\") \n",
    "peggy = Penguin() \n",
    "peggy.whoisThis() \n",
    "peggy.swim() \n",
    "peggy.run()"
   ]
  },
  {
   "cell_type": "code",
   "execution_count": 21,
   "id": "8478288a",
   "metadata": {},
   "outputs": [
    {
     "data": {
      "text/plain": [
       "'**EXPLAINATION**\\nWe created two classes i.e. Bird (parent class) and Penguin (child class). \\nThe child class inherits the functions of parent class. \\nWe can see this from the swim() method. \\nAgain, the child class modified the behavior of the parent class.\\nWe can see this from the whoisThis() method. \\nFurthermore, we extend the functions of the parent class, \\nby creating a new run() method. \\nAdditionally, we use the super() function inside the __init__() method. \\nThis allows us to run the __init__() method of the parent class inside the child\\nclass.'"
      ]
     },
     "execution_count": 21,
     "metadata": {},
     "output_type": "execute_result"
    }
   ],
   "source": [
    "\"\"\"**EXPLAINATION**\n",
    "We created two classes i.e. Bird (parent class) and Penguin (child class). \n",
    "The child class inherits the functions of parent class. \n",
    "We can see this from the swim() method. \n",
    "Again, the child class modified the behavior of the parent class.\n",
    "We can see this from the whoisThis() method. \n",
    "Furthermore, we extend the functions of the parent class, \n",
    "by creating a new run() method. \n",
    "Additionally, we use the super() function inside the __init__() method. \n",
    "This allows us to run the __init__() method of the parent class inside the child\n",
    "class.\"\"\""
   ]
  },
  {
   "cell_type": "markdown",
   "id": "b874e14b",
   "metadata": {},
   "source": [
    "## Polymorphism"
   ]
  },
  {
   "cell_type": "code",
   "execution_count": null,
   "id": "6fc219f9",
   "metadata": {},
   "outputs": [],
   "source": [
    "#We know that the + operator is used extensively in Python programs. \n",
    "#But, it does not have a single usage. \n",
    "#For integer data types, + operator is used to perform arithmetic \n",
    "#addition operation."
   ]
  },
  {
   "cell_type": "code",
   "execution_count": null,
   "id": "597d62d7",
   "metadata": {},
   "outputs": [],
   "source": [
    "num1 = 1 \n",
    "num2 = 2\n",
    "print(num1+num2)\n",
    "str1 = \"Python\" \n",
    "str2 = \"Programming\" \n",
    "print(str1+\" \"+str2)"
   ]
  },
  {
   "cell_type": "code",
   "execution_count": 24,
   "id": "704fe824",
   "metadata": {},
   "outputs": [
    {
     "data": {
      "text/plain": [
       "'we can see that a single operator + has been used to carry out different \\noperations for distinct data types. This is one of the most simple occurrences \\nof polymorphism in Python.'"
      ]
     },
     "execution_count": 24,
     "metadata": {},
     "output_type": "execute_result"
    }
   ],
   "source": [
    "\"\"\"we can see that a single operator + has been used to carry out different \n",
    "operations for distinct data types. This is one of the most simple occurrences \n",
    "of polymorphism in Python.\"\"\""
   ]
  },
  {
   "cell_type": "code",
   "execution_count": 25,
   "id": "fdeb9ada",
   "metadata": {},
   "outputs": [
    {
     "name": "stdout",
     "output_type": "stream",
     "text": [
      "10\n",
      "3\n",
      "2\n"
     ]
    }
   ],
   "source": [
    "print(len(\"Programing\")) \n",
    "print(len([\"Python\", \"Java\", \"C\"])) \n",
    "print(len({\"Name\": \"John\", \"Address\": \"Nepal\"}))"
   ]
  },
  {
   "cell_type": "code",
   "execution_count": 26,
   "id": "3f64df47",
   "metadata": {},
   "outputs": [],
   "source": [
    "#  Polymorphism demonstration"
   ]
  },
  {
   "cell_type": "code",
   "execution_count": 27,
   "id": "ebf69dca",
   "metadata": {},
   "outputs": [
    {
     "name": "stdout",
     "output_type": "stream",
     "text": [
      "Meow\n",
      "I am a cat. My name is Kitty. I am 2.5 years old.\n",
      "Meow\n",
      "Bark\n",
      "I am a dog. My name is Fluffy. I am 4 years old.\n",
      "Bark\n"
     ]
    }
   ],
   "source": [
    "class Cat:\n",
    "    def __init__(self, name, age):\n",
    "        self.name = name \n",
    "        self.age = age\n",
    "    def info(self): \n",
    "        print(f\"I am a cat. My name is {self.name}. I am {self.age} years old.\")\n",
    "    def make_sound(self):\n",
    "        print(\"Meow\") \n",
    "class Dog: \n",
    "    def __init__(self, name, age):\n",
    "        self.name = name \n",
    "        self.age = age \n",
    "    def info(self): \n",
    "        print(f\"I am a dog. My name is {self.name}. I am {self.age} years old.\")\n",
    "    def make_sound(self): \n",
    "        print(\"Bark\") \n",
    "cat1 = Cat(\"Kitty\", 2.5) \n",
    "dog1 = Dog(\"Fluffy\", 4)\n",
    "for animal in (cat1, dog1):\n",
    "    animal.make_sound()\n",
    "    animal.info() \n",
    "    animal.make_sound()"
   ]
  },
  {
   "cell_type": "code",
   "execution_count": 30,
   "id": "195ac938",
   "metadata": {},
   "outputs": [
    {
     "name": "stdout",
     "output_type": "stream",
     "text": [
      "Circle\n",
      "I am a two-dimensional shape.\n",
      "Squares have each angle equal to 90 degrees.\n",
      "153.93804002589985\n"
     ]
    }
   ],
   "source": [
    "#  Polymorphism example for calculating area for different shapes \n",
    "from math import pi \n",
    "class Shape: \n",
    "    def __init__(self, name): \n",
    "        self.name = name \n",
    "    def area(self): \n",
    "        pass \n",
    "    def fact(self): \n",
    "        return \"I am a two-dimensional shape.\" \n",
    "    def __str__(self): \n",
    "        return self.name \n",
    "class Square(Shape):\n",
    "    def __init__(self, length): \n",
    "        super().__init__(\"Square\") \n",
    "        self.length = length \n",
    "    def area(self):\n",
    "        return self.length**2 \n",
    "    def fact(self): \n",
    "        return \"Squares have each angle equal to 90 degrees.\" \n",
    "class Circle(Shape): \n",
    "    def __init__(self, radius):\n",
    "        super().__init__(\"Circle\")\n",
    "        self.radius = radius \n",
    "    def area(self): \n",
    "        return pi*self.radius**2 \n",
    "a = Square(4)\n",
    "b = Circle(7) \n",
    "print(b) \n",
    "print(b.fact()) \n",
    "print(a.fact()) \n",
    "print(b.area())"
   ]
  },
  {
   "cell_type": "code",
   "execution_count": 31,
   "id": "6680244f",
   "metadata": {},
   "outputs": [
    {
     "data": {
      "text/plain": [
       "\"Here, we can see that the methods such as __str__(), which have not been overridden in the child classes, are used from the parent class. Due to polymorphism, the Python interpreter automatically recognizes that the fact() method for object a(Square class) is overridden. So, it uses the one defined in the child class. On the other hand, since the fact() method for object b isn't overridden, it is used from the Parent Shape class. \""
      ]
     },
     "execution_count": 31,
     "metadata": {},
     "output_type": "execute_result"
    }
   ],
   "source": [
    "\"\"\"Here, we can see that the methods such as __str__(), \n",
    "which have not been overridden in the child classes, are used from the\n",
    "parent class. Due to polymorphism, the Python interpreter automatically \n",
    "recognizes that the fact() method for object a(Square class) is overridden.\n",
    "So, it uses the one defined in the child class. On the other hand, since \n",
    "the fact() method for object b isn't overridden, \n",
    "it is used from the Parent Shape class. \"\"\""
   ]
  },
  {
   "cell_type": "code",
   "execution_count": null,
   "id": "a182889c",
   "metadata": {},
   "outputs": [],
   "source": []
  }
 ],
 "metadata": {
  "kernelspec": {
   "display_name": "Python 3 (ipykernel)",
   "language": "python",
   "name": "python3"
  },
  "language_info": {
   "codemirror_mode": {
    "name": "ipython",
    "version": 3
   },
   "file_extension": ".py",
   "mimetype": "text/x-python",
   "name": "python",
   "nbconvert_exporter": "python",
   "pygments_lexer": "ipython3",
   "version": "3.9.12"
  }
 },
 "nbformat": 4,
 "nbformat_minor": 5
}
