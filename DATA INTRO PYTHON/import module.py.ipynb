{
 "cells": [
  {
   "cell_type": "code",
   "execution_count": null,
   "id": "289ac3b7-bf3e-4659-8fd2-b705e05b99d5",
   "metadata": {},
   "outputs": [],
   "source": [
    "def powerful(x: float, n: float):\n",
    "    return x ** n\n",
    "    "
   ]
  }
 ],
 "metadata": {
  "kernelspec": {
   "display_name": "Python 3 (ipykernel)",
   "language": "python",
   "name": "python3"
  },
  "language_info": {
   "codemirror_mode": {
    "name": "ipython",
    "version": 3
   },
   "file_extension": ".py",
   "mimetype": "text/x-python",
   "name": "python",
   "nbconvert_exporter": "python",
   "pygments_lexer": "ipython3",
   "version": "3.11.7"
  }
 },
 "nbformat": 4,
 "nbformat_minor": 5
}
