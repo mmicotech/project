{
 "cells": [
  {
   "cell_type": "markdown",
   "id": "f9722dd7",
   "metadata": {},
   "source": [
    "## If Statements"
   ]
  },
  {
   "cell_type": "code",
   "execution_count": 9,
   "id": "50edbf91",
   "metadata": {},
   "outputs": [
    {
     "name": "stdout",
     "output_type": "stream",
     "text": [
      "Yes a is equal to b\n"
     ]
    }
   ],
   "source": [
    "# check whether two numbers are equal, Check Condition\n",
    "a=10\n",
    "b=10\n",
    "if a==b:\n",
    "    print(\"Yes a is equal to b\") \n",
    "    "
   ]
  },
  {
   "cell_type": "code",
   "execution_count": 19,
   "id": "4c1bd773",
   "metadata": {},
   "outputs": [],
   "source": [
    "a=10\n",
    "b=10\n",
    "if a==b:\n",
    "    print(\"Yes a is equal to b\") \n",
    "print(\"outside the condition\")"
   ]
  },
  {
   "cell_type": "code",
   "execution_count": 21,
   "id": "1bd01b60",
   "metadata": {},
   "outputs": [
    {
     "name": "stdout",
     "output_type": "stream",
     "text": [
      "a is not equal to b\n"
     ]
    }
   ],
   "source": [
    "a=10\n",
    "b=20\n",
    "if a==b:\n",
    "    print(\"a is equal to b\")\n",
    "else:\n",
    "    print(\"a is not equal to b\")"
   ]
  },
  {
   "cell_type": "code",
   "execution_count": 24,
   "id": "5629da18",
   "metadata": {},
   "outputs": [
    {
     "name": "stdout",
     "output_type": "stream",
     "text": [
      "b is greater than a\n"
     ]
    }
   ],
   "source": [
    "# Task check a is greater than b\n",
    "a=10\n",
    "b=20\n",
    "if a>b:\n",
    "    print(\"a is greater than b\")\n",
    "else:\n",
    "    print(\"b is greater than a\")"
   ]
  },
  {
   "cell_type": "code",
   "execution_count": 29,
   "id": "d5d19bee",
   "metadata": {},
   "outputs": [
    {
     "name": "stdout",
     "output_type": "stream",
     "text": [
      "Enter number3\n",
      "Number is positive\n"
     ]
    }
   ],
   "source": [
    "# task check number is positive number or negative\n",
    "num=int(input(\"Enter number\"))\n",
    "if num>0:\n",
    "    print(\"Number is positive\")\n",
    "else:\n",
    "    print(\"Number is Negative\")"
   ]
  },
  {
   "cell_type": "code",
   "execution_count": 32,
   "id": "b50dff09",
   "metadata": {},
   "outputs": [
    {
     "name": "stdout",
     "output_type": "stream",
     "text": [
      "Number is Negative\n"
     ]
    }
   ],
   "source": [
    "# check number whether it is Positive,negative and zero\n",
    "num=-9\n",
    "if num>0:\n",
    "    print(\"Number is positive\")\n",
    "elif num==0:\n",
    "    print(\"Number is Zero\")\n",
    "else:\n",
    "    print(\"Number is Negative\")"
   ]
  },
  {
   "cell_type": "code",
   "execution_count": 40,
   "id": "fed6555d",
   "metadata": {},
   "outputs": [
    {
     "name": "stdout",
     "output_type": "stream",
     "text": [
      "b is greater\n"
     ]
    }
   ],
   "source": [
    "# Task take input as a,b and c and compare which one is greatest\n",
    "a=20\n",
    "b=50\n",
    "c=5\n",
    "if a>b and a>c:\n",
    "    print(\"a is greater\")\n",
    "elif b>a and b>c:\n",
    "    print(\"b is greater\")\n",
    "else:\n",
    "    print(\"c is greater\")\n"
   ]
  },
  {
   "cell_type": "code",
   "execution_count": 42,
   "id": "67aba407",
   "metadata": {},
   "outputs": [
    {
     "name": "stdout",
     "output_type": "stream",
     "text": [
      "odd number\n"
     ]
    }
   ],
   "source": [
    "#Write a python code to check number is even or odd\n",
    "num=7\n",
    "if num%2==0:\n",
    "    print(\"Even Number\")\n",
    "else:\n",
    "    print(\"odd number\")"
   ]
  },
  {
   "cell_type": "code",
   "execution_count": 55,
   "id": "3d48104a",
   "metadata": {},
   "outputs": [
    {
     "name": "stdout",
     "output_type": "stream",
     "text": [
      "Number is greater than 100\n"
     ]
    }
   ],
   "source": [
    "num=250\n",
    "if num>100:\n",
    "    print(\"Number is greater than 100\")\n",
    "elif num==100:\n",
    "    print(\"Number is 100\")\n",
    "else:\n",
    "    print(\"Number is not greater than 100\")"
   ]
  },
  {
   "cell_type": "code",
   "execution_count": null,
   "id": "f60282cf",
   "metadata": {},
   "outputs": [],
   "source": []
  }
 ],
 "metadata": {
  "kernelspec": {
   "display_name": "Python 3 (ipykernel)",
   "language": "python",
   "name": "python3"
  },
  "language_info": {
   "codemirror_mode": {
    "name": "ipython",
    "version": 3
   },
   "file_extension": ".py",
   "mimetype": "text/x-python",
   "name": "python",
   "nbconvert_exporter": "python",
   "pygments_lexer": "ipython3",
   "version": "3.9.12"
  }
 },
 "nbformat": 4,
 "nbformat_minor": 5
}
